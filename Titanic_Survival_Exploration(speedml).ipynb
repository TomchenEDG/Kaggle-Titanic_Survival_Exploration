{
 "cells": [
  {
   "cell_type": "markdown",
   "metadata": {},
   "source": [
    "# Titanic Solution Using Speedml 使用Speedml泰坦尼克号解决方案\n",
    "\n",
    "### This notebook uses the [Speedml](https://speedml.com)  Python package to speed start machine learning projects.\n",
    "\n",
    "### 本笔记本使用[Speedml](https://speedml.com) Python包来快速启动机器学习项目。\n",
    "\n",
    "Speedml integrates best ML packages and popular strategies used by top data scientists in an easy to use Python package.\n",
    "\n",
    "Speedml集成了最好的ML包和顶级数据科学家使用的流行策略，便于使用Python包。\n",
    "\n",
    "> Using Speedml on Titanic dataset we **quickly jumped from low 80% rank to top 20% rank**, within just a few feature engineering iterations.\n",
    "\n",
    ">在泰坦尼克号数据集上使用Speedml，我们很快就从低80%跃升至20%的排名**，仅在几个特征工程的迭代中。\n",
    "\n",
    "Speedml is under active development and Kaggle version of the API may not be the latest. For demonstrating the latest Speedml features we have also created the same notebook on GitHub.\n",
    "\n",
    "Speedml正在积极开发，而Kaggle版本的API可能不是最新的。为了演示最新的Speedml特性，我们还在GitHub上创建了相同的笔记本。\n",
    "\n",
    "### Download the latest version of [this notebook from GitHub](https://github.com/Speedml/notebooks/blob/master/titanic/titanic-solution-using-speedml.ipynb).\n",
    "\n",
    "### 从GitHub下载这个笔记本的最新版本\n",
    "\n",
    "### Table of Contents 表的内容\n",
    "\n",
    "- Loading the datasets.\n",
    "- Differentiating between numerical, categorical, high-cardinality, and continuous features.\n",
    "- Feature correlation heatmap matrix.\n",
    "- Feature distribution for outliers detection.\n",
    "- Plotting continuous features for outliers detection.\n",
    "- Plotting categorical features for outliers detection.\n",
    "- Fixing outliers with a single line of code.\n",
    "- Plotting continuous features against categorical features.\n",
    "- Feature engineering for high-cardinality.\n",
    "- New feature extraction from existing features.\n",
    "- Hyper-parameters tuning for model classifier.\n",
    "- Model evaluation and accuracy ranking.\n",
    "- Model prediction and feature selection.\n",
    "- Saving the results.\n",
    "\n",
    "\n",
    "- 加载数据集。\n",
    "- 区分数字、分类、高基数和连续特征。\n",
    "- 特征相关热图矩阵。\n",
    "- 异常值检测的特征分布。\n",
    "- 为异常值检测绘制连续特征。\n",
    "- 为离群值检测绘制分类特征。\n",
    "- 用一行代码修复异常值。\n",
    "- 根据分类特征绘制连续特征。\n",
    "- 高基数的特征工程。\n",
    "- 现有功能的新特征提取。\n",
    "- 模型分类器的超参数调优。\n",
    "- 模型评估和准确性排名。\n",
    "- 模型预测和特征选择。\n",
    "- 保存结果。"
   ]
  },
  {
   "cell_type": "markdown",
   "metadata": {},
   "source": [
    "## Getting Started 开始\n",
    "\n",
    "To get started all you need to do is include one package in your project. Speedml includes pandas, sklearn, numpy, xgboost, by default so you do not need to import these.\n",
    "\n",
    "首先，您需要在项目中包含一个包。在默认情况下，Speedml包括了pandas、sklearn、numpy和xgboost，所以您不需要导入它们。"
   ]
  },
  {
   "cell_type": "code",
   "execution_count": 1,
   "metadata": {
    "ExecuteTime": {
     "end_time": "2017-05-16T11:30:16.281555",
     "start_time": "2017-05-16T11:30:10.992468"
    }
   },
   "outputs": [],
   "source": [
    "from speedml import Speedml"
   ]
  },
  {
   "cell_type": "markdown",
   "metadata": {},
   "source": [
    "It takes one line of code to initialize train, test datasets, define the target and unique id variables. This also initializes wrapper components for EDA (sml.plot), XGBoost (sml.xgb), modeling (sml.model), feature engineering (sml.feature) and more...\n",
    "\n",
    "它需要一行代码来初始化训练，测试数据集，定义目标和唯一的id变量。 这也初始化EDA（sml.plot），XGBoost（sml.xgb），建模（sml.model），特征工程（sml.feature）等等的包装组件。"
   ]
  },
  {
   "cell_type": "code",
   "execution_count": 3,
   "metadata": {
    "ExecuteTime": {
     "end_time": "2017-05-16T11:30:16.341609",
     "start_time": "2017-05-16T11:30:16.284311"
    }
   },
   "outputs": [
    {
     "data": {
      "text/plain": [
       "'train (891, 11) | test (418, 10)'"
      ]
     },
     "execution_count": 3,
     "metadata": {},
     "output_type": "execute_result"
    }
   ],
   "source": [
    "# sml = Speedml('../input/titanic/train.csv', \n",
    "#               '../input/titanic/test.csv', \n",
    "#               target = 'Survived',\n",
    "#               uid = 'PassengerId')\n",
    "\n",
    "sml = Speedml('train.csv', \n",
    "              'test.csv', \n",
    "              target = 'Survived',\n",
    "              uid = 'PassengerId')\n",
    "sml.shape()"
   ]
  },
  {
   "cell_type": "markdown",
   "metadata": {},
   "source": [
    "## Configure 配置\n",
    "\n",
    "Speedml workflow and analytics are user configurable. Following method call configures the threshold for identifying if we may be over-fitting our model based on ratio of features compared with samples. The method returns default (call without arguments) or updated configuration dictionary.\n",
    "\n",
    "Speedml工作流和分析是用户可配置的。 以下方法调用配置阈值以确定我们是否可能过度拟合基于特征与样本相比的模型。 该方法返回默认值（不带参数的调用）或更新的配置字典。\n",
    "\n",
    "> Here we are (re)setting the overfit_threshold to $\\frac{\\sqrt{N}}{N}$ where $N$ is the number of samples in the train dataset. The rule of thumb is to have number of highly correlated features to be less than $\\sqrt{N}$ to avoid over-fitting. If features are not correlated then this number can go as high as $N - 1$.\n",
    "\n",
    ">在这里，我们将overfit_threshold设置为$\\frac{\\sqrt{N}}{N}$，其中$N$是训练数据集中的样本数目。经验法则是，有许多高度相关的特性要小于$\\sqrt{N}$以避免过度拟合。如果特征不相关，那么这个数字可以高达$N - 1$。\n",
    "\n",
    "Also note how intuitively Speeml exposes the methods like sqrt of popular packages like numpy and pandas objects like the train dataframe.\n",
    "\n",
    "还需要注意的是，直观的Speeml是如何暴露像sqrt这样的流行软件包，如numpy和pandas对象，比如训练dataframe。"
   ]
  },
  {
   "cell_type": "code",
   "execution_count": 5,
   "metadata": {
    "ExecuteTime": {
     "end_time": "2017-05-16T11:30:16.355417",
     "start_time": "2017-05-16T11:30:16.345225"
    }
   },
   "outputs": [
    {
     "data": {
      "text/plain": [
       "{'high_cardinality': 10,\n",
       " 'outlier_threshold': 3,\n",
       " 'outpath': 'output/',\n",
       " 'overfit_threshold': 0.033501260508640406,\n",
       " 'unique_ratio': 80}"
      ]
     },
     "execution_count": 5,
     "metadata": {},
     "output_type": "execute_result"
    }
   ],
   "source": [
    "# high_cardinality :高基数，10\n",
    "# outlier_threshold:离群值阈值，3\n",
    "# outpath:输出路径，output/\n",
    "# overfit_threshold:过拟合阀值，0.033501260508640406\n",
    "# unique_ratio: 唯一的比例，80\n",
    "sml.configure('overfit_threshold', \n",
    "              sml.np.sqrt(sml.train.shape[0]) / sml.train.shape[0])"
   ]
  },
  {
   "cell_type": "markdown",
   "metadata": {},
   "source": [
    "## Speed EDA\n",
    "\n",
    "Then returning results from just one Speedml method performs quick EDA on the entire dataset.\n",
    "\n",
    "然后从一个Speedml方法返回结果，对整个数据集执行快速EDA。"
   ]
  },
  {
   "cell_type": "code",
   "execution_count": 6,
   "metadata": {
    "ExecuteTime": {
     "end_time": "2017-05-16T11:30:16.409961",
     "start_time": "2017-05-16T11:30:16.358401"
    }
   },
   "outputs": [
    {
     "data": {
      "text/html": [
       "<div>\n",
       "<style scoped>\n",
       "    .dataframe tbody tr th:only-of-type {\n",
       "        vertical-align: middle;\n",
       "    }\n",
       "\n",
       "    .dataframe tbody tr th {\n",
       "        vertical-align: top;\n",
       "    }\n",
       "\n",
       "    .dataframe thead th {\n",
       "        text-align: right;\n",
       "    }\n",
       "</style>\n",
       "<table border=\"1\" class=\"dataframe\">\n",
       "  <thead>\n",
       "    <tr style=\"text-align: right;\">\n",
       "      <th></th>\n",
       "      <th>Results</th>\n",
       "      <th>Observations</th>\n",
       "    </tr>\n",
       "  </thead>\n",
       "  <tbody>\n",
       "    <tr>\n",
       "      <th>Speedml Release</th>\n",
       "      <td>v0.9.3</td>\n",
       "      <td>Visit https://speedml.com for release notes.</td>\n",
       "    </tr>\n",
       "    <tr>\n",
       "      <th>Nulls</th>\n",
       "      <td>1014</td>\n",
       "      <td>Use feature.impute.</td>\n",
       "    </tr>\n",
       "    <tr>\n",
       "      <th>Outliers Upper</th>\n",
       "      <td>[SibSp, Fare]</td>\n",
       "      <td>Positive skew (&gt; 3). Use feature.outliers(upper).</td>\n",
       "    </tr>\n",
       "    <tr>\n",
       "      <th>Shape</th>\n",
       "      <td>train (891, 11) | test (418, 10)</td>\n",
       "      <td></td>\n",
       "    </tr>\n",
       "    <tr>\n",
       "      <th>Numerical Ratio</th>\n",
       "      <td>54%</td>\n",
       "      <td>Aim for 100% numerical.</td>\n",
       "    </tr>\n",
       "    <tr>\n",
       "      <th>Numerical High-cardinality</th>\n",
       "      <td>[Age, Fare]</td>\n",
       "      <td>(&gt;10) categories. Use feature.density</td>\n",
       "    </tr>\n",
       "    <tr>\n",
       "      <th>Numerical Categorical</th>\n",
       "      <td>[Survived, Pclass, SibSp, Parch]</td>\n",
       "      <td>Use plot.ordinal.</td>\n",
       "    </tr>\n",
       "    <tr>\n",
       "      <th>Text High-cardinality</th>\n",
       "      <td>[Ticket, Cabin]</td>\n",
       "      <td>(&gt;10) categories. Use feature.labels.</td>\n",
       "    </tr>\n",
       "    <tr>\n",
       "      <th>Text Categorical</th>\n",
       "      <td>[Embarked, Sex]</td>\n",
       "      <td>Use feature.labels or feature.mapping.</td>\n",
       "    </tr>\n",
       "    <tr>\n",
       "      <th>Text Unique</th>\n",
       "      <td>[Name]</td>\n",
       "      <td>~80% unique. Use feature.extract or feature.drop.</td>\n",
       "    </tr>\n",
       "    <tr>\n",
       "      <th>Target Analysis (Survived)</th>\n",
       "      <td>Model ready.</td>\n",
       "      <td>Use classification models.</td>\n",
       "    </tr>\n",
       "  </tbody>\n",
       "</table>\n",
       "</div>"
      ],
      "text/plain": [
       "                                                     Results  \\\n",
       "Speedml Release                                       v0.9.3   \n",
       "Nulls                                                   1014   \n",
       "Outliers Upper                                 [SibSp, Fare]   \n",
       "Shape                       train (891, 11) | test (418, 10)   \n",
       "Numerical Ratio                                          54%   \n",
       "Numerical High-cardinality                       [Age, Fare]   \n",
       "Numerical Categorical       [Survived, Pclass, SibSp, Parch]   \n",
       "Text High-cardinality                        [Ticket, Cabin]   \n",
       "Text Categorical                             [Embarked, Sex]   \n",
       "Text Unique                                           [Name]   \n",
       "Target Analysis (Survived)                      Model ready.   \n",
       "\n",
       "                                                                 Observations  \n",
       "Speedml Release                  Visit https://speedml.com for release notes.  \n",
       "Nulls                                                     Use feature.impute.  \n",
       "Outliers Upper              Positive skew (> 3). Use feature.outliers(upper).  \n",
       "Shape                                                                          \n",
       "Numerical Ratio                                       Aim for 100% numerical.  \n",
       "Numerical High-cardinality              (>10) categories. Use feature.density  \n",
       "Numerical Categorical                                       Use plot.ordinal.  \n",
       "Text High-cardinality                   (>10) categories. Use feature.labels.  \n",
       "Text Categorical                       Use feature.labels or feature.mapping.  \n",
       "Text Unique                 ~80% unique. Use feature.extract or feature.drop.  \n",
       "Target Analysis (Survived)                         Use classification models.  "
      ]
     },
     "execution_count": 6,
     "metadata": {},
     "output_type": "execute_result"
    }
   ],
   "source": [
    "# Observations:观察\n",
    "# Speedml Release：Speedml 释放\n",
    "# Nulls: 空值\n",
    "# Outliers Upper:离群值上\n",
    "# Shape:数据的形状\n",
    "# Numerical Ratio:数值比\n",
    "# Numerical High-cardinality：高基数\n",
    "# Numerical Categorical：数值分类\n",
    "# Text High-cardinality\t：文本的高聚合度\n",
    "# Text Categorical：文本分类\n",
    "# Text Unique:文本独特的\n",
    "# Target Analysis (Survived):目标分析(生存)\n",
    "sml.eda()"
   ]
  },
  {
   "cell_type": "markdown",
   "metadata": {},
   "source": [
    "**Observations**\n",
    "\n",
    "**观察**\n",
    "\n",
    "- Most model classifiers cannot handle NaN or null values. Data wrangle these to remove all null values.\n",
    "- Models require numerical datasets so converting 100% of features to numerical is a data wrangling and feature engineering goal.\n",
    "- High-cardinality features or features with lots of categories need to be addressed in a special manner for better model performance. One of the feature engineering strategies is banding of ranges of values for reducing the number of categories. Another strategy is to determine density of repeating values.\n",
    "- Categorical numerical features can be plotted differently (plot bars, histograms) from high-cardinality or continuous features (use scatter plots).\n",
    "- Non-categorical text features cannot be directly converted to numeric. These are candidates for feature extraction by identifying repeating patterns.\n",
    "\n",
    "\n",
    "- 大多数模型分类器不能处理NaN或空值。 数据缠绕这些以删除所有空值。\n",
    "- 模型需要数字数据集，因此将100％的特征转换为数字是数据争夺和特征工程目标。\n",
    "- 需要以特殊方式解决具有许多类别的高基数特性或功能，以获得更好的模型性能。 其中一项特色工程策略是用于减少类别数量的一系列值。 另一个策略是确定重复值的密度。\n",
    "- 分类数值特征可以根据高基数或连续特征（使用散点图）以不同方式绘制（绘图条，直方图）。\n",
    "- 非分类文本特征不能直接转换为数字。 这些是通过识别重复模式进行特征提取的候选项。"
   ]
  },
  {
   "cell_type": "code",
   "execution_count": 7,
   "metadata": {
    "ExecuteTime": {
     "end_time": "2017-05-16T11:30:16.442494",
     "start_time": "2017-05-16T11:30:16.412017"
    }
   },
   "outputs": [
    {
     "data": {
      "text/html": [
       "<div>\n",
       "<style scoped>\n",
       "    .dataframe tbody tr th:only-of-type {\n",
       "        vertical-align: middle;\n",
       "    }\n",
       "\n",
       "    .dataframe tbody tr th {\n",
       "        vertical-align: top;\n",
       "    }\n",
       "\n",
       "    .dataframe thead th {\n",
       "        text-align: right;\n",
       "    }\n",
       "</style>\n",
       "<table border=\"1\" class=\"dataframe\">\n",
       "  <thead>\n",
       "    <tr style=\"text-align: right;\">\n",
       "      <th></th>\n",
       "      <th>Survived</th>\n",
       "      <th>Pclass</th>\n",
       "      <th>Name</th>\n",
       "      <th>Sex</th>\n",
       "      <th>Age</th>\n",
       "      <th>SibSp</th>\n",
       "      <th>Parch</th>\n",
       "      <th>Ticket</th>\n",
       "      <th>Fare</th>\n",
       "      <th>Cabin</th>\n",
       "      <th>Embarked</th>\n",
       "    </tr>\n",
       "  </thead>\n",
       "  <tbody>\n",
       "    <tr>\n",
       "      <th>0</th>\n",
       "      <td>0</td>\n",
       "      <td>3</td>\n",
       "      <td>Braund, Mr. Owen Harris</td>\n",
       "      <td>male</td>\n",
       "      <td>22.0</td>\n",
       "      <td>1</td>\n",
       "      <td>0</td>\n",
       "      <td>A/5 21171</td>\n",
       "      <td>7.2500</td>\n",
       "      <td>NaN</td>\n",
       "      <td>S</td>\n",
       "    </tr>\n",
       "    <tr>\n",
       "      <th>1</th>\n",
       "      <td>1</td>\n",
       "      <td>1</td>\n",
       "      <td>Cumings, Mrs. John Bradley (Florence Briggs Th...</td>\n",
       "      <td>female</td>\n",
       "      <td>38.0</td>\n",
       "      <td>1</td>\n",
       "      <td>0</td>\n",
       "      <td>PC 17599</td>\n",
       "      <td>71.2833</td>\n",
       "      <td>C85</td>\n",
       "      <td>C</td>\n",
       "    </tr>\n",
       "    <tr>\n",
       "      <th>2</th>\n",
       "      <td>1</td>\n",
       "      <td>3</td>\n",
       "      <td>Heikkinen, Miss. Laina</td>\n",
       "      <td>female</td>\n",
       "      <td>26.0</td>\n",
       "      <td>0</td>\n",
       "      <td>0</td>\n",
       "      <td>STON/O2. 3101282</td>\n",
       "      <td>7.9250</td>\n",
       "      <td>NaN</td>\n",
       "      <td>S</td>\n",
       "    </tr>\n",
       "    <tr>\n",
       "      <th>3</th>\n",
       "      <td>1</td>\n",
       "      <td>1</td>\n",
       "      <td>Futrelle, Mrs. Jacques Heath (Lily May Peel)</td>\n",
       "      <td>female</td>\n",
       "      <td>35.0</td>\n",
       "      <td>1</td>\n",
       "      <td>0</td>\n",
       "      <td>113803</td>\n",
       "      <td>53.1000</td>\n",
       "      <td>C123</td>\n",
       "      <td>S</td>\n",
       "    </tr>\n",
       "    <tr>\n",
       "      <th>4</th>\n",
       "      <td>0</td>\n",
       "      <td>3</td>\n",
       "      <td>Allen, Mr. William Henry</td>\n",
       "      <td>male</td>\n",
       "      <td>35.0</td>\n",
       "      <td>0</td>\n",
       "      <td>0</td>\n",
       "      <td>373450</td>\n",
       "      <td>8.0500</td>\n",
       "      <td>NaN</td>\n",
       "      <td>S</td>\n",
       "    </tr>\n",
       "  </tbody>\n",
       "</table>\n",
       "</div>"
      ],
      "text/plain": [
       "   Survived  Pclass                                               Name  \\\n",
       "0         0       3                            Braund, Mr. Owen Harris   \n",
       "1         1       1  Cumings, Mrs. John Bradley (Florence Briggs Th...   \n",
       "2         1       3                             Heikkinen, Miss. Laina   \n",
       "3         1       1       Futrelle, Mrs. Jacques Heath (Lily May Peel)   \n",
       "4         0       3                           Allen, Mr. William Henry   \n",
       "\n",
       "      Sex   Age  SibSp  Parch            Ticket     Fare Cabin Embarked  \n",
       "0    male  22.0      1      0         A/5 21171   7.2500   NaN        S  \n",
       "1  female  38.0      1      0          PC 17599  71.2833   C85        C  \n",
       "2  female  26.0      0      0  STON/O2. 3101282   7.9250   NaN        S  \n",
       "3  female  35.0      1      0            113803  53.1000  C123        S  \n",
       "4    male  35.0      0      0            373450   8.0500   NaN        S  "
      ]
     },
     "execution_count": 7,
     "metadata": {},
     "output_type": "execute_result"
    }
   ],
   "source": [
    "sml.train.head()"
   ]
  },
  {
   "cell_type": "markdown",
   "metadata": {},
   "source": [
    "## Feature Correlations 特征相关性\n",
    "\n",
    "You can quickly check feature correlations using a plot. Learn how to interpret this plot at https://speedml.com/plot-correlation-of-features/ \n",
    "\n",
    "您可以使用绘图快速检查特征相关性。 通过https://speedml.com/plot-correlation-of-features/ 了解如何解读此图。"
   ]
  },
  {
   "cell_type": "code",
   "execution_count": 8,
   "metadata": {
    "ExecuteTime": {
     "end_time": "2017-05-16T11:30:17.047929",
     "start_time": "2017-05-16T11:30:16.444715"
    }
   },
   "outputs": [
    {
     "data": {
      "image/png": "[encoded data removed]",
      "text/plain": [
       "<matplotlib.figure.Figure at 0xa7655c0>"
      ]
     },
     "metadata": {},
     "output_type": "display_data"
    }
   ],
   "source": [
    "sml.plot.correlate()"
   ]
  },
  {
   "cell_type": "markdown",
   "metadata": {},
   "source": [
    "## Outliers Detection and Fix 异常值检测和修复\n",
    "\n",
    "We can use distributions to understand skew (left/right) for determining outliers.\n",
    "\n",
    "我们可以使用分布来理解偏差(左/右)来确定异常值。"
   ]
  },
  {
   "cell_type": "code",
   "execution_count": 9,
   "metadata": {
    "ExecuteTime": {
     "end_time": "2017-05-16T11:30:18.145472",
     "start_time": "2017-05-16T11:30:17.049768"
    }
   },
   "outputs": [
    {
     "data": {
      "text/plain": [
       "<matplotlib.figure.Figure at 0xa81a780>"
      ]
     },
     "metadata": {},
     "output_type": "display_data"
    },
    {
     "data": {
      "image/png": "[encoded data removed]",
      "text/plain": [
       "<matplotlib.figure.Figure at 0xaa73dd8>"
      ]
     },
     "metadata": {},
     "output_type": "display_data"
    }
   ],
   "source": [
    "sml.plot.distribute()"
   ]
  },
  {
   "cell_type": "markdown",
   "metadata": {},
   "source": [
    "Continuous or high-cardinality numerical features are better plotted using scatter plot for determining outliers.\n",
    "\n",
    "使用散点图更好地绘制连续或高基数数字特征以确定异常值。\n",
    "\n",
    "We do not expect outliers in case of Age feature as the distribution plot is fairly close to normal (rising in the middle of x-axis and falling on either sides evenly).\n",
    "\n",
    "\n",
    "我们不希望出现年龄特征的异常值，因为分布图非常接近正常（在x轴的中间上升并且均匀地落在两侧）。"
   ]
  },
  {
   "cell_type": "code",
   "execution_count": 10,
   "metadata": {
    "ExecuteTime": {
     "end_time": "2017-05-16T11:30:18.571694",
     "start_time": "2017-05-16T11:30:18.149964"
    }
   },
   "outputs": [
    {
     "data": {
      "image/png": "[encoded data removed]",
      "text/plain": [
       "<matplotlib.figure.Figure at 0xa765208>"
      ]
     },
     "metadata": {},
     "output_type": "display_data"
    }
   ],
   "source": [
    "sml.plot.continuous('Age')"
   ]
  },
  {
   "cell_type": "markdown",
   "metadata": {},
   "source": [
    "The method clearly shows some outliers in case of Fare feature. This coincides with our observation from the distribution plot for the Fare feature which is skewed towards left.\n",
    "\n",
    "在票价特征的情况下，该方法清楚地显示了一些异常值。 这与我们从票价特征向左倾斜的分布图的观察一致。"
   ]
  },
  {
   "cell_type": "code",
   "execution_count": 11,
   "metadata": {
    "ExecuteTime": {
     "end_time": "2017-05-16T11:30:18.868911",
     "start_time": "2017-05-16T11:30:18.574499"
    }
   },
   "outputs": [
    {
     "data": {
      "image/png": "[encoded data removed]",
      "text/plain": [
       "<matplotlib.figure.Figure at 0xa765550>"
      ]
     },
     "metadata": {},
     "output_type": "display_data"
    }
   ],
   "source": [
    "sml.plot.continuous('Fare')"
   ]
  },
  {
   "cell_type": "markdown",
   "metadata": {},
   "source": [
    "To correct the outliers we fix only values in upper range of the 99th percentile. As the results show these constitute around 1% of overall samples.\n",
    "\n",
    "为了纠正异常值，我们只修正第99个百分点的上限范围内的值。 结果表明，这些构成了总体样本的1％左右。"
   ]
  },
  {
   "cell_type": "code",
   "execution_count": 15,
   "metadata": {
    "ExecuteTime": {
     "end_time": "2017-05-16T11:30:18.889148",
     "start_time": "2017-05-16T11:30:18.871825"
    }
   },
   "outputs": [
    {
     "data": {
      "text/plain": [
       "'Fixed 0 or 0.00% upper outliers. '"
      ]
     },
     "execution_count": 15,
     "metadata": {},
     "output_type": "execute_result"
    }
   ],
   "source": [
    "# 在'Fare'这列的数设置为98%上限范围内的值\n",
    "sml.feature.outliers('Fare', upper=98)"
   ]
  },
  {
   "cell_type": "markdown",
   "metadata": {},
   "source": [
    "While we impact only a few samples, the outliers fix is fairly significant as shown by the same plot after the fix.\n",
    "\n",
    "虽然我们仅影响少数样本，但异常值修正非常显着，如修复后的相同绘图所示。"
   ]
  },
  {
   "cell_type": "code",
   "execution_count": 14,
   "metadata": {
    "ExecuteTime": {
     "end_time": "2017-05-16T11:30:19.169028",
     "start_time": "2017-05-16T11:30:18.891249"
    }
   },
   "outputs": [
    {
     "data": {
      "image/png": "[encoded data removed]",
      "text/plain": [
       "<matplotlib.figure.Figure at 0xad535f8>"
      ]
     },
     "metadata": {},
     "output_type": "display_data"
    }
   ],
   "source": [
    "sml.plot.continuous('Fare')"
   ]
  },
  {
   "cell_type": "markdown",
   "metadata": {},
   "source": [
    "We throw-in another plot into the mix just to understand how the remaining (potential) outliers are spread across when correlating with seemingly related features. We know that the passenger class and fare paid may be significantly correlated. As the plot points in upper range mostly stick to Pclass=1 we can safely assume no further fixing is required for the Fare feature.\n",
    "\n",
    "我们在混合中插入另一个曲线，以了解与表面上相关的特征相关时剩余（潜在）异常值如何分布。\n",
    "\n",
    "我们知道，乘客级别（Pclass）和票价（Fare）可能显着相关。\n",
    "\n",
    "由于上限范围内的绘图点大多保持在Pclass = 1，因此我们可以安全地假定票价特征不需要进一步修复。"
   ]
  },
  {
   "cell_type": "code",
   "execution_count": 16,
   "metadata": {
    "ExecuteTime": {
     "end_time": "2017-05-16T11:30:19.573606",
     "start_time": "2017-05-16T11:30:19.171302"
    }
   },
   "outputs": [
    {
     "data": {
      "image/png": "[encoded data removed]",
      "text/plain": [
       "<matplotlib.figure.Figure at 0xad7e470>"
      ]
     },
     "metadata": {},
     "output_type": "display_data"
    }
   ],
   "source": [
    "sml.plot.strip('Pclass', 'Fare')"
   ]
  },
  {
   "cell_type": "code",
   "execution_count": 19,
   "metadata": {
    "ExecuteTime": {
     "end_time": "2017-05-16T11:30:20.371842",
     "start_time": "2017-05-16T11:30:19.575895"
    }
   },
   "outputs": [
    {
     "data": {
      "image/png": "[encoded data removed]",
      "text/plain": [
       "<matplotlib.figure.Figure at 0xaa342e8>"
      ]
     },
     "metadata": {},
     "output_type": "display_data"
    },
    {
     "name": "stdout",
     "output_type": "stream",
     "text": [
      "Fixed 0 or 0.00% upper outliers. \n"
     ]
    },
    {
     "data": {
      "image/png": "[encoded data removed]",
      "text/plain": [
       "<matplotlib.figure.Figure at 0xa9dcac8>"
      ]
     },
     "metadata": {},
     "output_type": "display_data"
    },
    {
     "data": {
      "image/png": "[encoded data removed]",
      "text/plain": [
       "<matplotlib.figure.Figure at 0xa9dccf8>"
      ]
     },
     "metadata": {},
     "output_type": "display_data"
    }
   ],
   "source": [
    "sml.plot.ordinal('SibSp')\n",
    "print(sml.feature.outliers('SibSp', upper=99))\n",
    "sml.plot.ordinal('SibSp')\n",
    "sml.plot.strip('SibSp', 'Age')"
   ]
  },
  {
   "cell_type": "markdown",
   "metadata": {},
   "source": [
    "## Feature Engineering For High-Cardinality 高基数的特征工程\n",
    "\n",
    "High-cardinality features like Ticket and Age are candidates for feature engineering. We use the density method to create a new feature based on Age and Ticket and drop the Ticket feature in turn. This simple iteration improves our model significantly and helps us jump 100s of positions on the Kaggle leaderboard.\n",
    "\n",
    "Ticket和Age等高基数特征是特征工程的候选特征。\n",
    "\n",
    "我们使用密度方法根据Age和Ticket创建新特征，并依次放弃Ticket特征。\n",
    "\n",
    "这个简单的迭代显着改善了我们的模型，并帮助我们在Kaggle排行榜上跳过100多个位置。"
   ]
  },
  {
   "cell_type": "code",
   "execution_count": 20,
   "metadata": {
    "ExecuteTime": {
     "end_time": "2017-05-16T11:30:20.418823",
     "start_time": "2017-05-16T11:30:20.374357"
    }
   },
   "outputs": [
    {
     "data": {
      "text/html": [
       "<div>\n",
       "<style scoped>\n",
       "    .dataframe tbody tr th:only-of-type {\n",
       "        vertical-align: middle;\n",
       "    }\n",
       "\n",
       "    .dataframe tbody tr th {\n",
       "        vertical-align: top;\n",
       "    }\n",
       "\n",
       "    .dataframe thead th {\n",
       "        text-align: right;\n",
       "    }\n",
       "</style>\n",
       "<table border=\"1\" class=\"dataframe\">\n",
       "  <thead>\n",
       "    <tr style=\"text-align: right;\">\n",
       "      <th></th>\n",
       "      <th>Results</th>\n",
       "      <th>Observations</th>\n",
       "    </tr>\n",
       "  </thead>\n",
       "  <tbody>\n",
       "    <tr>\n",
       "      <th>Speedml Release</th>\n",
       "      <td>v0.9.3</td>\n",
       "      <td>Visit https://speedml.com for release notes.</td>\n",
       "    </tr>\n",
       "    <tr>\n",
       "      <th>Nulls</th>\n",
       "      <td>1014</td>\n",
       "      <td>Use feature.impute.</td>\n",
       "    </tr>\n",
       "    <tr>\n",
       "      <th>Shape</th>\n",
       "      <td>train (891, 11) | test (418, 10)</td>\n",
       "      <td></td>\n",
       "    </tr>\n",
       "    <tr>\n",
       "      <th>Numerical Ratio</th>\n",
       "      <td>54%</td>\n",
       "      <td>Aim for 100% numerical.</td>\n",
       "    </tr>\n",
       "    <tr>\n",
       "      <th>Numerical High-cardinality</th>\n",
       "      <td>[Age, Fare]</td>\n",
       "      <td>(&gt;10) categories. Use feature.density</td>\n",
       "    </tr>\n",
       "    <tr>\n",
       "      <th>Numerical Categorical</th>\n",
       "      <td>[Survived, Pclass, SibSp, Parch]</td>\n",
       "      <td>Use plot.ordinal.</td>\n",
       "    </tr>\n",
       "    <tr>\n",
       "      <th>Text High-cardinality</th>\n",
       "      <td>[Ticket, Cabin]</td>\n",
       "      <td>(&gt;10) categories. Use feature.labels.</td>\n",
       "    </tr>\n",
       "    <tr>\n",
       "      <th>Text Categorical</th>\n",
       "      <td>[Embarked, Sex]</td>\n",
       "      <td>Use feature.labels or feature.mapping.</td>\n",
       "    </tr>\n",
       "    <tr>\n",
       "      <th>Text Unique</th>\n",
       "      <td>[Name]</td>\n",
       "      <td>~80% unique. Use feature.extract or feature.drop.</td>\n",
       "    </tr>\n",
       "    <tr>\n",
       "      <th>Target Analysis (Survived)</th>\n",
       "      <td>Model ready.</td>\n",
       "      <td>Use classification models.</td>\n",
       "    </tr>\n",
       "  </tbody>\n",
       "</table>\n",
       "</div>"
      ],
      "text/plain": [
       "                                                     Results  \\\n",
       "Speedml Release                                       v0.9.3   \n",
       "Nulls                                                   1014   \n",
       "Shape                       train (891, 11) | test (418, 10)   \n",
       "Numerical Ratio                                          54%   \n",
       "Numerical High-cardinality                       [Age, Fare]   \n",
       "Numerical Categorical       [Survived, Pclass, SibSp, Parch]   \n",
       "Text High-cardinality                        [Ticket, Cabin]   \n",
       "Text Categorical                             [Embarked, Sex]   \n",
       "Text Unique                                           [Name]   \n",
       "Target Analysis (Survived)                      Model ready.   \n",
       "\n",
       "                                                                 Observations  \n",
       "Speedml Release                  Visit https://speedml.com for release notes.  \n",
       "Nulls                                                     Use feature.impute.  \n",
       "Shape                                                                          \n",
       "Numerical Ratio                                       Aim for 100% numerical.  \n",
       "Numerical High-cardinality              (>10) categories. Use feature.density  \n",
       "Numerical Categorical                                       Use plot.ordinal.  \n",
       "Text High-cardinality                   (>10) categories. Use feature.labels.  \n",
       "Text Categorical                       Use feature.labels or feature.mapping.  \n",
       "Text Unique                 ~80% unique. Use feature.extract or feature.drop.  \n",
       "Target Analysis (Survived)                         Use classification models.  "
      ]
     },
     "execution_count": 20,
     "metadata": {},
     "output_type": "execute_result"
    }
   ],
   "source": [
    "sml.eda()"
   ]
  },
  {
   "cell_type": "code",
   "execution_count": 21,
   "metadata": {
    "ExecuteTime": {
     "end_time": "2017-05-16T11:30:20.608751",
     "start_time": "2017-05-16T11:30:20.421326"
    }
   },
   "outputs": [
    {
     "data": {
      "text/html": [
       "<div>\n",
       "<style scoped>\n",
       "    .dataframe tbody tr th:only-of-type {\n",
       "        vertical-align: middle;\n",
       "    }\n",
       "\n",
       "    .dataframe tbody tr th {\n",
       "        vertical-align: top;\n",
       "    }\n",
       "\n",
       "    .dataframe thead th {\n",
       "        text-align: right;\n",
       "    }\n",
       "</style>\n",
       "<table border=\"1\" class=\"dataframe\">\n",
       "  <thead>\n",
       "    <tr style=\"text-align: right;\">\n",
       "      <th></th>\n",
       "      <th>Age</th>\n",
       "      <th>Age_density</th>\n",
       "    </tr>\n",
       "  </thead>\n",
       "  <tbody>\n",
       "    <tr>\n",
       "      <th>0</th>\n",
       "      <td>22.0</td>\n",
       "      <td>27</td>\n",
       "    </tr>\n",
       "    <tr>\n",
       "      <th>1</th>\n",
       "      <td>38.0</td>\n",
       "      <td>11</td>\n",
       "    </tr>\n",
       "    <tr>\n",
       "      <th>2</th>\n",
       "      <td>26.0</td>\n",
       "      <td>18</td>\n",
       "    </tr>\n",
       "    <tr>\n",
       "      <th>3</th>\n",
       "      <td>35.0</td>\n",
       "      <td>18</td>\n",
       "    </tr>\n",
       "    <tr>\n",
       "      <th>4</th>\n",
       "      <td>35.0</td>\n",
       "      <td>18</td>\n",
       "    </tr>\n",
       "  </tbody>\n",
       "</table>\n",
       "</div>"
      ],
      "text/plain": [
       "    Age  Age_density\n",
       "0  22.0           27\n",
       "1  38.0           11\n",
       "2  26.0           18\n",
       "3  35.0           18\n",
       "4  35.0           18"
      ]
     },
     "execution_count": 21,
     "metadata": {},
     "output_type": "execute_result"
    }
   ],
   "source": [
    "# density是密度方法：\n",
    "sml.feature.density('Age')\n",
    "sml.train[['Age', 'Age_density']].head()"
   ]
  },
  {
   "cell_type": "code",
   "execution_count": 22,
   "metadata": {
    "ExecuteTime": {
     "end_time": "2017-05-16T11:30:20.781179",
     "start_time": "2017-05-16T11:30:20.611452"
    }
   },
   "outputs": [
    {
     "data": {
      "text/html": [
       "<div>\n",
       "<style scoped>\n",
       "    .dataframe tbody tr th:only-of-type {\n",
       "        vertical-align: middle;\n",
       "    }\n",
       "\n",
       "    .dataframe tbody tr th {\n",
       "        vertical-align: top;\n",
       "    }\n",
       "\n",
       "    .dataframe thead th {\n",
       "        text-align: right;\n",
       "    }\n",
       "</style>\n",
       "<table border=\"1\" class=\"dataframe\">\n",
       "  <thead>\n",
       "    <tr style=\"text-align: right;\">\n",
       "      <th></th>\n",
       "      <th>Ticket</th>\n",
       "      <th>Ticket_density</th>\n",
       "    </tr>\n",
       "  </thead>\n",
       "  <tbody>\n",
       "    <tr>\n",
       "      <th>0</th>\n",
       "      <td>A/5 21171</td>\n",
       "      <td>1</td>\n",
       "    </tr>\n",
       "    <tr>\n",
       "      <th>1</th>\n",
       "      <td>PC 17599</td>\n",
       "      <td>1</td>\n",
       "    </tr>\n",
       "    <tr>\n",
       "      <th>2</th>\n",
       "      <td>STON/O2. 3101282</td>\n",
       "      <td>1</td>\n",
       "    </tr>\n",
       "    <tr>\n",
       "      <th>3</th>\n",
       "      <td>113803</td>\n",
       "      <td>2</td>\n",
       "    </tr>\n",
       "    <tr>\n",
       "      <th>4</th>\n",
       "      <td>373450</td>\n",
       "      <td>1</td>\n",
       "    </tr>\n",
       "  </tbody>\n",
       "</table>\n",
       "</div>"
      ],
      "text/plain": [
       "             Ticket  Ticket_density\n",
       "0         A/5 21171               1\n",
       "1          PC 17599               1\n",
       "2  STON/O2. 3101282               1\n",
       "3            113803               2\n",
       "4            373450               1"
      ]
     },
     "execution_count": 22,
     "metadata": {},
     "output_type": "execute_result"
    }
   ],
   "source": [
    "sml.feature.density('Ticket')\n",
    "sml.train[['Ticket', 'Ticket_density']].head()"
   ]
  },
  {
   "cell_type": "code",
   "execution_count": 23,
   "metadata": {
    "ExecuteTime": {
     "end_time": "2017-05-16T11:30:20.794339",
     "start_time": "2017-05-16T11:30:20.783356"
    }
   },
   "outputs": [
    {
     "data": {
      "text/plain": [
       "'Dropped 1 features with 12 features available.'"
      ]
     },
     "execution_count": 23,
     "metadata": {},
     "output_type": "execute_result"
    }
   ],
   "source": [
    "sml.feature.drop(['Ticket'])"
   ]
  },
  {
   "cell_type": "markdown",
   "metadata": {},
   "source": [
    "## Extracting New Features 提取的新特性\n",
    "\n",
    "We will now extract new features Deck from Cabin and FamilySize from Parch and SibSp.\n",
    "\n",
    "我们现在将从Parch和SibSp中提取Cabin和FamilySize的新特征。\n",
    "\n",
    "- Parch: The dataset defines family relations in this way...\n",
    "- Parent = mother, father\n",
    "- Child = daughter, son, stepdaughter, stepson\n",
    "- Some children travelled only with a nanny, therefore parch=0 for them.\n",
    "\n",
    "\n",
    "- 数据集以这种方式定义了家庭关系。\n",
    "- 父母=母亲,父亲\n",
    "- 孩子=女儿，儿子，继女，继子。\n",
    "- 有些孩子只带着保姆去旅行，所以他们的父母都是孩子。\n",
    "\n",
    "\n",
    "- Sibsp: The dataset defines family relations in this way...\n",
    "- Sibling = brother, sister, stepbrother, stepsister\n",
    "- Spouse = husband, wife (mistresses and fiancés were ignored)\n",
    "\n",
    "\n",
    "- 数据集以这种方式定义了家庭关系。\n",
    "- 兄弟，姐妹，继兄弟，继姐妹。\n",
    "- 配偶=丈夫、妻子(情妇和未婚夫被忽略)"
   ]
  },
  {
   "cell_type": "code",
   "execution_count": 24,
   "metadata": {
    "ExecuteTime": {
     "end_time": "2017-05-16T11:30:20.827322",
     "start_time": "2017-05-16T11:30:20.797061"
    }
   },
   "outputs": [
    {
     "data": {
      "text/html": [
       "<div>\n",
       "<style scoped>\n",
       "    .dataframe tbody tr th:only-of-type {\n",
       "        vertical-align: middle;\n",
       "    }\n",
       "\n",
       "    .dataframe tbody tr th {\n",
       "        vertical-align: top;\n",
       "    }\n",
       "\n",
       "    .dataframe thead th {\n",
       "        text-align: right;\n",
       "    }\n",
       "</style>\n",
       "<table border=\"1\" class=\"dataframe\">\n",
       "  <thead>\n",
       "    <tr style=\"text-align: right;\">\n",
       "      <th>SibSp</th>\n",
       "      <th>0.0</th>\n",
       "      <th>1.0</th>\n",
       "      <th>2.0</th>\n",
       "      <th>3.0</th>\n",
       "      <th>4.0</th>\n",
       "      <th>5.0</th>\n",
       "    </tr>\n",
       "    <tr>\n",
       "      <th>Survived</th>\n",
       "      <th></th>\n",
       "      <th></th>\n",
       "      <th></th>\n",
       "      <th></th>\n",
       "      <th></th>\n",
       "      <th></th>\n",
       "    </tr>\n",
       "  </thead>\n",
       "  <tbody>\n",
       "    <tr>\n",
       "      <th>0</th>\n",
       "      <td>398</td>\n",
       "      <td>97</td>\n",
       "      <td>15</td>\n",
       "      <td>12</td>\n",
       "      <td>15</td>\n",
       "      <td>12</td>\n",
       "    </tr>\n",
       "    <tr>\n",
       "      <th>1</th>\n",
       "      <td>210</td>\n",
       "      <td>112</td>\n",
       "      <td>13</td>\n",
       "      <td>4</td>\n",
       "      <td>3</td>\n",
       "      <td>0</td>\n",
       "    </tr>\n",
       "  </tbody>\n",
       "</table>\n",
       "</div>"
      ],
      "text/plain": [
       "SibSp     0.0  1.0  2.0  3.0  4.0  5.0\n",
       "Survived                              \n",
       "0         398   97   15   12   15   12\n",
       "1         210  112   13    4    3    0"
      ]
     },
     "execution_count": 24,
     "metadata": {},
     "output_type": "execute_result"
    }
   ],
   "source": [
    "sml.plot.crosstab('Survived', 'SibSp')"
   ]
  },
  {
   "cell_type": "code",
   "execution_count": 25,
   "metadata": {
    "ExecuteTime": {
     "end_time": "2017-05-16T11:30:20.859882",
     "start_time": "2017-05-16T11:30:20.829273"
    }
   },
   "outputs": [
    {
     "data": {
      "text/html": [
       "<div>\n",
       "<style scoped>\n",
       "    .dataframe tbody tr th:only-of-type {\n",
       "        vertical-align: middle;\n",
       "    }\n",
       "\n",
       "    .dataframe tbody tr th {\n",
       "        vertical-align: top;\n",
       "    }\n",
       "\n",
       "    .dataframe thead th {\n",
       "        text-align: right;\n",
       "    }\n",
       "</style>\n",
       "<table border=\"1\" class=\"dataframe\">\n",
       "  <thead>\n",
       "    <tr style=\"text-align: right;\">\n",
       "      <th>Parch</th>\n",
       "      <th>0</th>\n",
       "      <th>1</th>\n",
       "      <th>2</th>\n",
       "      <th>3</th>\n",
       "      <th>4</th>\n",
       "      <th>5</th>\n",
       "      <th>6</th>\n",
       "    </tr>\n",
       "    <tr>\n",
       "      <th>Survived</th>\n",
       "      <th></th>\n",
       "      <th></th>\n",
       "      <th></th>\n",
       "      <th></th>\n",
       "      <th></th>\n",
       "      <th></th>\n",
       "      <th></th>\n",
       "    </tr>\n",
       "  </thead>\n",
       "  <tbody>\n",
       "    <tr>\n",
       "      <th>0</th>\n",
       "      <td>445</td>\n",
       "      <td>53</td>\n",
       "      <td>40</td>\n",
       "      <td>2</td>\n",
       "      <td>4</td>\n",
       "      <td>4</td>\n",
       "      <td>1</td>\n",
       "    </tr>\n",
       "    <tr>\n",
       "      <th>1</th>\n",
       "      <td>233</td>\n",
       "      <td>65</td>\n",
       "      <td>40</td>\n",
       "      <td>3</td>\n",
       "      <td>0</td>\n",
       "      <td>1</td>\n",
       "      <td>0</td>\n",
       "    </tr>\n",
       "  </tbody>\n",
       "</table>\n",
       "</div>"
      ],
      "text/plain": [
       "Parch       0   1   2  3  4  5  6\n",
       "Survived                         \n",
       "0         445  53  40  2  4  4  1\n",
       "1         233  65  40  3  0  1  0"
      ]
     },
     "execution_count": 25,
     "metadata": {},
     "output_type": "execute_result"
    }
   ],
   "source": [
    "sml.plot.crosstab('Survived', 'Parch')"
   ]
  },
  {
   "cell_type": "code",
   "execution_count": 26,
   "metadata": {
    "ExecuteTime": {
     "end_time": "2017-05-16T11:30:20.896571",
     "start_time": "2017-05-16T11:30:20.861707"
    }
   },
   "outputs": [
    {
     "data": {
      "text/plain": [
       "'Filled 1014 null values across test and train datasets.'"
      ]
     },
     "execution_count": 26,
     "metadata": {},
     "output_type": "execute_result"
    },
    {
     "data": {
      "text/plain": [
       "'Dropped 1 features with 12 features available.'"
      ]
     },
     "execution_count": 26,
     "metadata": {},
     "output_type": "execute_result"
    }
   ],
   "source": [
    "# 让Cabin列空的填满'Z'\n",
    "sml.feature.fillna(a='Cabin', new='Z')\n",
    "# 创建新列'Deck'，提取'Cabin'特征，regex='([A-Z]){1}'是在字符串中首位字符A-Z取一个。\n",
    "sml.feature.extract(new='Deck', a='Cabin', regex='([A-Z]){1}')\n",
    "# 删除'Cabin'列。\n",
    "sml.feature.drop(['Cabin'])\n",
    "# 让'Sex'的男和女转为0和1\n",
    "sml.feature.mapping('Sex', {'male': 0, 'female': 1})\n",
    "# 创建新特征'FamilySize'，把'Parch'和'SibSp'的值加起来赋值给'FamilySize'.\n",
    "sml.feature.sum(new='FamilySize', a='Parch', b='SibSp')\n",
    "# 添加特征'FamilySize'\n",
    "sml.feature.add('FamilySize', 1)"
   ]
  },
  {
   "cell_type": "code",
   "execution_count": 28,
   "metadata": {},
   "outputs": [
    {
     "data": {
      "text/html": [
       "<div>\n",
       "<style scoped>\n",
       "    .dataframe tbody tr th:only-of-type {\n",
       "        vertical-align: middle;\n",
       "    }\n",
       "\n",
       "    .dataframe tbody tr th {\n",
       "        vertical-align: top;\n",
       "    }\n",
       "\n",
       "    .dataframe thead th {\n",
       "        text-align: right;\n",
       "    }\n",
       "</style>\n",
       "<table border=\"1\" class=\"dataframe\">\n",
       "  <thead>\n",
       "    <tr style=\"text-align: right;\">\n",
       "      <th></th>\n",
       "      <th>Survived</th>\n",
       "      <th>Pclass</th>\n",
       "      <th>Name</th>\n",
       "      <th>Sex</th>\n",
       "      <th>Age</th>\n",
       "      <th>SibSp</th>\n",
       "      <th>Parch</th>\n",
       "      <th>Fare</th>\n",
       "      <th>Embarked</th>\n",
       "      <th>Age_density</th>\n",
       "      <th>Ticket_density</th>\n",
       "      <th>Deck</th>\n",
       "      <th>FamilySize</th>\n",
       "    </tr>\n",
       "  </thead>\n",
       "  <tbody>\n",
       "    <tr>\n",
       "      <th>0</th>\n",
       "      <td>0</td>\n",
       "      <td>3</td>\n",
       "      <td>Braund, Mr. Owen Harris</td>\n",
       "      <td>0</td>\n",
       "      <td>22.0</td>\n",
       "      <td>1.0</td>\n",
       "      <td>0</td>\n",
       "      <td>7.2500</td>\n",
       "      <td>S</td>\n",
       "      <td>27</td>\n",
       "      <td>1</td>\n",
       "      <td>Z</td>\n",
       "      <td>2.0</td>\n",
       "    </tr>\n",
       "    <tr>\n",
       "      <th>1</th>\n",
       "      <td>1</td>\n",
       "      <td>1</td>\n",
       "      <td>Cumings, Mrs. John Bradley (Florence Briggs Th...</td>\n",
       "      <td>1</td>\n",
       "      <td>38.0</td>\n",
       "      <td>1.0</td>\n",
       "      <td>0</td>\n",
       "      <td>71.2833</td>\n",
       "      <td>C</td>\n",
       "      <td>11</td>\n",
       "      <td>1</td>\n",
       "      <td>C</td>\n",
       "      <td>2.0</td>\n",
       "    </tr>\n",
       "    <tr>\n",
       "      <th>2</th>\n",
       "      <td>1</td>\n",
       "      <td>3</td>\n",
       "      <td>Heikkinen, Miss. Laina</td>\n",
       "      <td>1</td>\n",
       "      <td>26.0</td>\n",
       "      <td>0.0</td>\n",
       "      <td>0</td>\n",
       "      <td>7.9250</td>\n",
       "      <td>S</td>\n",
       "      <td>18</td>\n",
       "      <td>1</td>\n",
       "      <td>Z</td>\n",
       "      <td>1.0</td>\n",
       "    </tr>\n",
       "    <tr>\n",
       "      <th>3</th>\n",
       "      <td>1</td>\n",
       "      <td>1</td>\n",
       "      <td>Futrelle, Mrs. Jacques Heath (Lily May Peel)</td>\n",
       "      <td>1</td>\n",
       "      <td>35.0</td>\n",
       "      <td>1.0</td>\n",
       "      <td>0</td>\n",
       "      <td>53.1000</td>\n",
       "      <td>S</td>\n",
       "      <td>18</td>\n",
       "      <td>2</td>\n",
       "      <td>C</td>\n",
       "      <td>2.0</td>\n",
       "    </tr>\n",
       "    <tr>\n",
       "      <th>4</th>\n",
       "      <td>0</td>\n",
       "      <td>3</td>\n",
       "      <td>Allen, Mr. William Henry</td>\n",
       "      <td>0</td>\n",
       "      <td>35.0</td>\n",
       "      <td>0.0</td>\n",
       "      <td>0</td>\n",
       "      <td>8.0500</td>\n",
       "      <td>S</td>\n",
       "      <td>18</td>\n",
       "      <td>1</td>\n",
       "      <td>Z</td>\n",
       "      <td>1.0</td>\n",
       "    </tr>\n",
       "  </tbody>\n",
       "</table>\n",
       "</div>"
      ],
      "text/plain": [
       "   Survived  Pclass                                               Name  Sex  \\\n",
       "0         0       3                            Braund, Mr. Owen Harris    0   \n",
       "1         1       1  Cumings, Mrs. John Bradley (Florence Briggs Th...    1   \n",
       "2         1       3                             Heikkinen, Miss. Laina    1   \n",
       "3         1       1       Futrelle, Mrs. Jacques Heath (Lily May Peel)    1   \n",
       "4         0       3                           Allen, Mr. William Henry    0   \n",
       "\n",
       "    Age  SibSp  Parch     Fare Embarked  Age_density  Ticket_density Deck  \\\n",
       "0  22.0    1.0      0   7.2500        S           27               1    Z   \n",
       "1  38.0    1.0      0  71.2833        C           11               1    C   \n",
       "2  26.0    0.0      0   7.9250        S           18               1    Z   \n",
       "3  35.0    1.0      0  53.1000        S           18               2    C   \n",
       "4  35.0    0.0      0   8.0500        S           18               1    Z   \n",
       "\n",
       "   FamilySize  \n",
       "0         2.0  \n",
       "1         2.0  \n",
       "2         1.0  \n",
       "3         2.0  \n",
       "4         1.0  "
      ]
     },
     "execution_count": 28,
     "metadata": {},
     "output_type": "execute_result"
    }
   ],
   "source": [
    "sml.train.head()"
   ]
  },
  {
   "cell_type": "code",
   "execution_count": 29,
   "metadata": {
    "ExecuteTime": {
     "end_time": "2017-05-16T11:30:21.554551",
     "start_time": "2017-05-16T11:30:20.898659"
    }
   },
   "outputs": [
    {
     "data": {
      "image/png": "[encoded data removed]",
      "text/plain": [
       "<matplotlib.figure.Figure at 0xaa839b0>"
      ]
     },
     "metadata": {},
     "output_type": "display_data"
    }
   ],
   "source": [
    "sml.plot.bar('FamilySize', 'Survived')"
   ]
  },
  {
   "cell_type": "code",
   "execution_count": 30,
   "metadata": {
    "ExecuteTime": {
     "end_time": "2017-05-16T11:30:22.178035",
     "start_time": "2017-05-16T11:30:21.557229"
    }
   },
   "outputs": [
    {
     "data": {
      "image/png": "[encoded data removed]",
      "text/plain": [
       "<matplotlib.figure.Figure at 0xabe7470>"
      ]
     },
     "metadata": {},
     "output_type": "display_data"
    }
   ],
   "source": [
    "sml.plot.bar('Deck', 'Survived')"
   ]
  },
  {
   "cell_type": "code",
   "execution_count": 31,
   "metadata": {
    "ExecuteTime": {
     "end_time": "2017-05-16T11:30:22.191176",
     "start_time": "2017-05-16T11:30:22.180084"
    }
   },
   "outputs": [
    {
     "data": {
      "text/plain": [
       "'Dropped 2 features with 11 features available.'"
      ]
     },
     "execution_count": 31,
     "metadata": {},
     "output_type": "execute_result"
    }
   ],
   "source": [
    "sml.feature.drop(['Parch', 'SibSp'])"
   ]
  },
  {
   "cell_type": "code",
   "execution_count": 32,
   "metadata": {},
   "outputs": [
    {
     "data": {
      "text/html": [
       "<div>\n",
       "<style scoped>\n",
       "    .dataframe tbody tr th:only-of-type {\n",
       "        vertical-align: middle;\n",
       "    }\n",
       "\n",
       "    .dataframe tbody tr th {\n",
       "        vertical-align: top;\n",
       "    }\n",
       "\n",
       "    .dataframe thead th {\n",
       "        text-align: right;\n",
       "    }\n",
       "</style>\n",
       "<table border=\"1\" class=\"dataframe\">\n",
       "  <thead>\n",
       "    <tr style=\"text-align: right;\">\n",
       "      <th></th>\n",
       "      <th>Survived</th>\n",
       "      <th>Pclass</th>\n",
       "      <th>Name</th>\n",
       "      <th>Sex</th>\n",
       "      <th>Age</th>\n",
       "      <th>Fare</th>\n",
       "      <th>Embarked</th>\n",
       "      <th>Age_density</th>\n",
       "      <th>Ticket_density</th>\n",
       "      <th>Deck</th>\n",
       "      <th>FamilySize</th>\n",
       "    </tr>\n",
       "  </thead>\n",
       "  <tbody>\n",
       "    <tr>\n",
       "      <th>0</th>\n",
       "      <td>0</td>\n",
       "      <td>3</td>\n",
       "      <td>Braund, Mr. Owen Harris</td>\n",
       "      <td>0</td>\n",
       "      <td>22.0</td>\n",
       "      <td>7.2500</td>\n",
       "      <td>S</td>\n",
       "      <td>27</td>\n",
       "      <td>1</td>\n",
       "      <td>Z</td>\n",
       "      <td>2.0</td>\n",
       "    </tr>\n",
       "    <tr>\n",
       "      <th>1</th>\n",
       "      <td>1</td>\n",
       "      <td>1</td>\n",
       "      <td>Cumings, Mrs. John Bradley (Florence Briggs Th...</td>\n",
       "      <td>1</td>\n",
       "      <td>38.0</td>\n",
       "      <td>71.2833</td>\n",
       "      <td>C</td>\n",
       "      <td>11</td>\n",
       "      <td>1</td>\n",
       "      <td>C</td>\n",
       "      <td>2.0</td>\n",
       "    </tr>\n",
       "    <tr>\n",
       "      <th>2</th>\n",
       "      <td>1</td>\n",
       "      <td>3</td>\n",
       "      <td>Heikkinen, Miss. Laina</td>\n",
       "      <td>1</td>\n",
       "      <td>26.0</td>\n",
       "      <td>7.9250</td>\n",
       "      <td>S</td>\n",
       "      <td>18</td>\n",
       "      <td>1</td>\n",
       "      <td>Z</td>\n",
       "      <td>1.0</td>\n",
       "    </tr>\n",
       "    <tr>\n",
       "      <th>3</th>\n",
       "      <td>1</td>\n",
       "      <td>1</td>\n",
       "      <td>Futrelle, Mrs. Jacques Heath (Lily May Peel)</td>\n",
       "      <td>1</td>\n",
       "      <td>35.0</td>\n",
       "      <td>53.1000</td>\n",
       "      <td>S</td>\n",
       "      <td>18</td>\n",
       "      <td>2</td>\n",
       "      <td>C</td>\n",
       "      <td>2.0</td>\n",
       "    </tr>\n",
       "    <tr>\n",
       "      <th>4</th>\n",
       "      <td>0</td>\n",
       "      <td>3</td>\n",
       "      <td>Allen, Mr. William Henry</td>\n",
       "      <td>0</td>\n",
       "      <td>35.0</td>\n",
       "      <td>8.0500</td>\n",
       "      <td>S</td>\n",
       "      <td>18</td>\n",
       "      <td>1</td>\n",
       "      <td>Z</td>\n",
       "      <td>1.0</td>\n",
       "    </tr>\n",
       "  </tbody>\n",
       "</table>\n",
       "</div>"
      ],
      "text/plain": [
       "   Survived  Pclass                                               Name  Sex  \\\n",
       "0         0       3                            Braund, Mr. Owen Harris    0   \n",
       "1         1       1  Cumings, Mrs. John Bradley (Florence Briggs Th...    1   \n",
       "2         1       3                             Heikkinen, Miss. Laina    1   \n",
       "3         1       1       Futrelle, Mrs. Jacques Heath (Lily May Peel)    1   \n",
       "4         0       3                           Allen, Mr. William Henry    0   \n",
       "\n",
       "    Age     Fare Embarked  Age_density  Ticket_density Deck  FamilySize  \n",
       "0  22.0   7.2500        S           27               1    Z         2.0  \n",
       "1  38.0  71.2833        C           11               1    C         2.0  \n",
       "2  26.0   7.9250        S           18               1    Z         1.0  \n",
       "3  35.0  53.1000        S           18               2    C         2.0  \n",
       "4  35.0   8.0500        S           18               1    Z         1.0  "
      ]
     },
     "execution_count": 32,
     "metadata": {},
     "output_type": "execute_result"
    }
   ],
   "source": [
    "sml.train.head()"
   ]
  },
  {
   "cell_type": "markdown",
   "metadata": {},
   "source": [
    "Here is a single line of code to impute all empty features values (numerical and text) with numerical median or most common text value.\n",
    "\n",
    "以下是一行代码，用于计算所有空值特征值（数值和文本），其中包含数值中位数或最常见的文本值。"
   ]
  },
  {
   "cell_type": "code",
   "execution_count": 33,
   "metadata": {
    "ExecuteTime": {
     "end_time": "2017-05-16T11:30:22.243316",
     "start_time": "2017-05-16T11:30:22.194358"
    }
   },
   "outputs": [
    {
     "data": {
      "text/plain": [
       "'Imputed 179 empty values to 0.'"
      ]
     },
     "execution_count": 33,
     "metadata": {},
     "output_type": "execute_result"
    }
   ],
   "source": [
    "sml.feature.impute()"
   ]
  },
  {
   "cell_type": "code",
   "execution_count": 34,
   "metadata": {},
   "outputs": [
    {
     "data": {
      "text/html": [
       "<div>\n",
       "<style scoped>\n",
       "    .dataframe tbody tr th:only-of-type {\n",
       "        vertical-align: middle;\n",
       "    }\n",
       "\n",
       "    .dataframe tbody tr th {\n",
       "        vertical-align: top;\n",
       "    }\n",
       "\n",
       "    .dataframe thead th {\n",
       "        text-align: right;\n",
       "    }\n",
       "</style>\n",
       "<table border=\"1\" class=\"dataframe\">\n",
       "  <thead>\n",
       "    <tr style=\"text-align: right;\">\n",
       "      <th></th>\n",
       "      <th>Age</th>\n",
       "      <th>Age_density</th>\n",
       "      <th>Deck</th>\n",
       "      <th>Embarked</th>\n",
       "      <th>FamilySize</th>\n",
       "      <th>Fare</th>\n",
       "      <th>Name</th>\n",
       "      <th>Pclass</th>\n",
       "      <th>Sex</th>\n",
       "      <th>Survived</th>\n",
       "      <th>Ticket_density</th>\n",
       "    </tr>\n",
       "  </thead>\n",
       "  <tbody>\n",
       "    <tr>\n",
       "      <th>0</th>\n",
       "      <td>22.0</td>\n",
       "      <td>27</td>\n",
       "      <td>Z</td>\n",
       "      <td>S</td>\n",
       "      <td>2.0</td>\n",
       "      <td>7.2500</td>\n",
       "      <td>Braund, Mr. Owen Harris</td>\n",
       "      <td>3</td>\n",
       "      <td>0</td>\n",
       "      <td>0</td>\n",
       "      <td>1</td>\n",
       "    </tr>\n",
       "    <tr>\n",
       "      <th>1</th>\n",
       "      <td>38.0</td>\n",
       "      <td>11</td>\n",
       "      <td>C</td>\n",
       "      <td>C</td>\n",
       "      <td>2.0</td>\n",
       "      <td>71.2833</td>\n",
       "      <td>Cumings, Mrs. John Bradley (Florence Briggs Th...</td>\n",
       "      <td>1</td>\n",
       "      <td>1</td>\n",
       "      <td>1</td>\n",
       "      <td>1</td>\n",
       "    </tr>\n",
       "    <tr>\n",
       "      <th>2</th>\n",
       "      <td>26.0</td>\n",
       "      <td>18</td>\n",
       "      <td>Z</td>\n",
       "      <td>S</td>\n",
       "      <td>1.0</td>\n",
       "      <td>7.9250</td>\n",
       "      <td>Heikkinen, Miss. Laina</td>\n",
       "      <td>3</td>\n",
       "      <td>1</td>\n",
       "      <td>1</td>\n",
       "      <td>1</td>\n",
       "    </tr>\n",
       "    <tr>\n",
       "      <th>3</th>\n",
       "      <td>35.0</td>\n",
       "      <td>18</td>\n",
       "      <td>C</td>\n",
       "      <td>S</td>\n",
       "      <td>2.0</td>\n",
       "      <td>53.1000</td>\n",
       "      <td>Futrelle, Mrs. Jacques Heath (Lily May Peel)</td>\n",
       "      <td>1</td>\n",
       "      <td>1</td>\n",
       "      <td>1</td>\n",
       "      <td>2</td>\n",
       "    </tr>\n",
       "    <tr>\n",
       "      <th>4</th>\n",
       "      <td>35.0</td>\n",
       "      <td>18</td>\n",
       "      <td>Z</td>\n",
       "      <td>S</td>\n",
       "      <td>1.0</td>\n",
       "      <td>8.0500</td>\n",
       "      <td>Allen, Mr. William Henry</td>\n",
       "      <td>3</td>\n",
       "      <td>0</td>\n",
       "      <td>0</td>\n",
       "      <td>1</td>\n",
       "    </tr>\n",
       "  </tbody>\n",
       "</table>\n",
       "</div>"
      ],
      "text/plain": [
       "    Age  Age_density Deck Embarked  FamilySize     Fare  \\\n",
       "0  22.0           27    Z        S         2.0   7.2500   \n",
       "1  38.0           11    C        C         2.0  71.2833   \n",
       "2  26.0           18    Z        S         1.0   7.9250   \n",
       "3  35.0           18    C        S         2.0  53.1000   \n",
       "4  35.0           18    Z        S         1.0   8.0500   \n",
       "\n",
       "                                                Name  Pclass  Sex  Survived  \\\n",
       "0                            Braund, Mr. Owen Harris       3    0         0   \n",
       "1  Cumings, Mrs. John Bradley (Florence Briggs Th...       1    1         1   \n",
       "2                             Heikkinen, Miss. Laina       3    1         1   \n",
       "3       Futrelle, Mrs. Jacques Heath (Lily May Peel)       1    1         1   \n",
       "4                           Allen, Mr. William Henry       3    0         0   \n",
       "\n",
       "   Ticket_density  \n",
       "0               1  \n",
       "1               1  \n",
       "2               1  \n",
       "3               2  \n",
       "4               1  "
      ]
     },
     "execution_count": 34,
     "metadata": {},
     "output_type": "execute_result"
    }
   ],
   "source": [
    "sml.train.head()"
   ]
  },
  {
   "cell_type": "code",
   "execution_count": 35,
   "metadata": {
    "ExecuteTime": {
     "end_time": "2017-05-16T11:30:22.266913",
     "start_time": "2017-05-16T11:30:22.245950"
    }
   },
   "outputs": [
    {
     "name": "stdout",
     "output_type": "stream",
     "text": [
      "<class 'pandas.core.frame.DataFrame'>\n",
      "Int64Index: 891 entries, 0 to 890\n",
      "Data columns (total 11 columns):\n",
      "Age               891 non-null float64\n",
      "Age_density       891 non-null int64\n",
      "Deck              891 non-null object\n",
      "Embarked          891 non-null object\n",
      "FamilySize        891 non-null float64\n",
      "Fare              891 non-null float64\n",
      "Name              891 non-null object\n",
      "Pclass            891 non-null int64\n",
      "Sex               891 non-null int64\n",
      "Survived          891 non-null int64\n",
      "Ticket_density    891 non-null int64\n",
      "dtypes: float64(3), int64(5), object(3)\n",
      "memory usage: 83.5+ KB\n",
      "----------------------------------------\n",
      "<class 'pandas.core.frame.DataFrame'>\n",
      "Int64Index: 418 entries, 0 to 417\n",
      "Data columns (total 10 columns):\n",
      "Age               418 non-null float64\n",
      "Age_density       418 non-null int64\n",
      "Deck              418 non-null object\n",
      "Embarked          418 non-null object\n",
      "FamilySize        418 non-null float64\n",
      "Fare              418 non-null float64\n",
      "Name              418 non-null object\n",
      "Pclass            418 non-null int64\n",
      "Sex               418 non-null int64\n",
      "Ticket_density    418 non-null int64\n",
      "dtypes: float64(3), int64(4), object(3)\n",
      "memory usage: 35.9+ KB\n"
     ]
    }
   ],
   "source": [
    "sml.info()"
   ]
  },
  {
   "cell_type": "code",
   "execution_count": 36,
   "metadata": {
    "ExecuteTime": {
     "end_time": "2017-05-16T11:30:22.658546",
     "start_time": "2017-05-16T11:30:22.269274"
    }
   },
   "outputs": [
    {
     "data": {
      "image/png": "[encoded data removed]",
      "text/plain": [
       "<matplotlib.figure.Figure at 0xad9dc50>"
      ]
     },
     "metadata": {},
     "output_type": "display_data"
    }
   ],
   "source": [
    "# 查看特征的重要性。\n",
    "sml.plot.importance()"
   ]
  },
  {
   "cell_type": "code",
   "execution_count": 37,
   "metadata": {
    "ExecuteTime": {
     "end_time": "2017-05-16T11:30:22.687750",
     "start_time": "2017-05-16T11:30:22.660823"
    }
   },
   "outputs": [
    {
     "data": {
      "text/html": [
       "<div>\n",
       "<style scoped>\n",
       "    .dataframe tbody tr th:only-of-type {\n",
       "        vertical-align: middle;\n",
       "    }\n",
       "\n",
       "    .dataframe tbody tr th {\n",
       "        vertical-align: top;\n",
       "    }\n",
       "\n",
       "    .dataframe thead th {\n",
       "        text-align: right;\n",
       "    }\n",
       "</style>\n",
       "<table border=\"1\" class=\"dataframe\">\n",
       "  <thead>\n",
       "    <tr style=\"text-align: right;\">\n",
       "      <th></th>\n",
       "      <th>Age</th>\n",
       "      <th>Age_density</th>\n",
       "      <th>Deck</th>\n",
       "      <th>Embarked</th>\n",
       "      <th>FamilySize</th>\n",
       "      <th>Fare</th>\n",
       "      <th>Name</th>\n",
       "      <th>Pclass</th>\n",
       "      <th>Sex</th>\n",
       "      <th>Survived</th>\n",
       "      <th>Ticket_density</th>\n",
       "    </tr>\n",
       "  </thead>\n",
       "  <tbody>\n",
       "    <tr>\n",
       "      <th>0</th>\n",
       "      <td>22.0</td>\n",
       "      <td>27</td>\n",
       "      <td>Z</td>\n",
       "      <td>S</td>\n",
       "      <td>2.0</td>\n",
       "      <td>7.2500</td>\n",
       "      <td>Braund, Mr. Owen Harris</td>\n",
       "      <td>3</td>\n",
       "      <td>0</td>\n",
       "      <td>0</td>\n",
       "      <td>1</td>\n",
       "    </tr>\n",
       "    <tr>\n",
       "      <th>1</th>\n",
       "      <td>38.0</td>\n",
       "      <td>11</td>\n",
       "      <td>C</td>\n",
       "      <td>C</td>\n",
       "      <td>2.0</td>\n",
       "      <td>71.2833</td>\n",
       "      <td>Cumings, Mrs. John Bradley (Florence Briggs Th...</td>\n",
       "      <td>1</td>\n",
       "      <td>1</td>\n",
       "      <td>1</td>\n",
       "      <td>1</td>\n",
       "    </tr>\n",
       "    <tr>\n",
       "      <th>2</th>\n",
       "      <td>26.0</td>\n",
       "      <td>18</td>\n",
       "      <td>Z</td>\n",
       "      <td>S</td>\n",
       "      <td>1.0</td>\n",
       "      <td>7.9250</td>\n",
       "      <td>Heikkinen, Miss. Laina</td>\n",
       "      <td>3</td>\n",
       "      <td>1</td>\n",
       "      <td>1</td>\n",
       "      <td>1</td>\n",
       "    </tr>\n",
       "    <tr>\n",
       "      <th>3</th>\n",
       "      <td>35.0</td>\n",
       "      <td>18</td>\n",
       "      <td>C</td>\n",
       "      <td>S</td>\n",
       "      <td>2.0</td>\n",
       "      <td>53.1000</td>\n",
       "      <td>Futrelle, Mrs. Jacques Heath (Lily May Peel)</td>\n",
       "      <td>1</td>\n",
       "      <td>1</td>\n",
       "      <td>1</td>\n",
       "      <td>2</td>\n",
       "    </tr>\n",
       "    <tr>\n",
       "      <th>4</th>\n",
       "      <td>35.0</td>\n",
       "      <td>18</td>\n",
       "      <td>Z</td>\n",
       "      <td>S</td>\n",
       "      <td>1.0</td>\n",
       "      <td>8.0500</td>\n",
       "      <td>Allen, Mr. William Henry</td>\n",
       "      <td>3</td>\n",
       "      <td>0</td>\n",
       "      <td>0</td>\n",
       "      <td>1</td>\n",
       "    </tr>\n",
       "  </tbody>\n",
       "</table>\n",
       "</div>"
      ],
      "text/plain": [
       "    Age  Age_density Deck Embarked  FamilySize     Fare  \\\n",
       "0  22.0           27    Z        S         2.0   7.2500   \n",
       "1  38.0           11    C        C         2.0  71.2833   \n",
       "2  26.0           18    Z        S         1.0   7.9250   \n",
       "3  35.0           18    C        S         2.0  53.1000   \n",
       "4  35.0           18    Z        S         1.0   8.0500   \n",
       "\n",
       "                                                Name  Pclass  Sex  Survived  \\\n",
       "0                            Braund, Mr. Owen Harris       3    0         0   \n",
       "1  Cumings, Mrs. John Bradley (Florence Briggs Th...       1    1         1   \n",
       "2                             Heikkinen, Miss. Laina       3    1         1   \n",
       "3       Futrelle, Mrs. Jacques Heath (Lily May Peel)       1    1         1   \n",
       "4                           Allen, Mr. William Henry       3    0         0   \n",
       "\n",
       "   Ticket_density  \n",
       "0               1  \n",
       "1               1  \n",
       "2               1  \n",
       "3               2  \n",
       "4               1  "
      ]
     },
     "execution_count": 37,
     "metadata": {},
     "output_type": "execute_result"
    }
   ],
   "source": [
    "sml.train.head()"
   ]
  },
  {
   "cell_type": "code",
   "execution_count": 38,
   "metadata": {
    "ExecuteTime": {
     "end_time": "2017-05-16T11:30:22.786595",
     "start_time": "2017-05-16T11:30:22.689733"
    }
   },
   "outputs": [
    {
     "data": {
      "text/html": [
       "<div>\n",
       "<style scoped>\n",
       "    .dataframe tbody tr th:only-of-type {\n",
       "        vertical-align: middle;\n",
       "    }\n",
       "\n",
       "    .dataframe tbody tr th {\n",
       "        vertical-align: top;\n",
       "    }\n",
       "\n",
       "    .dataframe thead th {\n",
       "        text-align: right;\n",
       "    }\n",
       "</style>\n",
       "<table border=\"1\" class=\"dataframe\">\n",
       "  <thead>\n",
       "    <tr style=\"text-align: right;\">\n",
       "      <th>Sex</th>\n",
       "      <th>0</th>\n",
       "      <th>1</th>\n",
       "    </tr>\n",
       "    <tr>\n",
       "      <th>Title</th>\n",
       "      <th></th>\n",
       "      <th></th>\n",
       "    </tr>\n",
       "  </thead>\n",
       "  <tbody>\n",
       "    <tr>\n",
       "      <th>Capt</th>\n",
       "      <td>1</td>\n",
       "      <td>0</td>\n",
       "    </tr>\n",
       "    <tr>\n",
       "      <th>Col</th>\n",
       "      <td>2</td>\n",
       "      <td>0</td>\n",
       "    </tr>\n",
       "    <tr>\n",
       "      <th>Countess</th>\n",
       "      <td>0</td>\n",
       "      <td>1</td>\n",
       "    </tr>\n",
       "    <tr>\n",
       "      <th>Don</th>\n",
       "      <td>1</td>\n",
       "      <td>0</td>\n",
       "    </tr>\n",
       "    <tr>\n",
       "      <th>Dr</th>\n",
       "      <td>6</td>\n",
       "      <td>1</td>\n",
       "    </tr>\n",
       "    <tr>\n",
       "      <th>Jonkheer</th>\n",
       "      <td>1</td>\n",
       "      <td>0</td>\n",
       "    </tr>\n",
       "    <tr>\n",
       "      <th>Lady</th>\n",
       "      <td>0</td>\n",
       "      <td>1</td>\n",
       "    </tr>\n",
       "    <tr>\n",
       "      <th>Major</th>\n",
       "      <td>2</td>\n",
       "      <td>0</td>\n",
       "    </tr>\n",
       "    <tr>\n",
       "      <th>Master</th>\n",
       "      <td>40</td>\n",
       "      <td>0</td>\n",
       "    </tr>\n",
       "    <tr>\n",
       "      <th>Miss</th>\n",
       "      <td>0</td>\n",
       "      <td>182</td>\n",
       "    </tr>\n",
       "    <tr>\n",
       "      <th>Mlle</th>\n",
       "      <td>0</td>\n",
       "      <td>2</td>\n",
       "    </tr>\n",
       "    <tr>\n",
       "      <th>Mme</th>\n",
       "      <td>0</td>\n",
       "      <td>1</td>\n",
       "    </tr>\n",
       "    <tr>\n",
       "      <th>Mr</th>\n",
       "      <td>517</td>\n",
       "      <td>0</td>\n",
       "    </tr>\n",
       "    <tr>\n",
       "      <th>Mrs</th>\n",
       "      <td>0</td>\n",
       "      <td>125</td>\n",
       "    </tr>\n",
       "    <tr>\n",
       "      <th>Ms</th>\n",
       "      <td>0</td>\n",
       "      <td>1</td>\n",
       "    </tr>\n",
       "    <tr>\n",
       "      <th>Rev</th>\n",
       "      <td>6</td>\n",
       "      <td>0</td>\n",
       "    </tr>\n",
       "    <tr>\n",
       "      <th>Sir</th>\n",
       "      <td>1</td>\n",
       "      <td>0</td>\n",
       "    </tr>\n",
       "  </tbody>\n",
       "</table>\n",
       "</div>"
      ],
      "text/plain": [
       "Sex         0    1\n",
       "Title             \n",
       "Capt        1    0\n",
       "Col         2    0\n",
       "Countess    0    1\n",
       "Don         1    0\n",
       "Dr          6    1\n",
       "Jonkheer    1    0\n",
       "Lady        0    1\n",
       "Major       2    0\n",
       "Master     40    0\n",
       "Miss        0  182\n",
       "Mlle        0    2\n",
       "Mme         0    1\n",
       "Mr        517    0\n",
       "Mrs         0  125\n",
       "Ms          0    1\n",
       "Rev         6    0\n",
       "Sir         1    0"
      ]
     },
     "execution_count": 38,
     "metadata": {},
     "output_type": "execute_result"
    }
   ],
   "source": [
    "# 创建新特征'Title'，提取特征'Name'的英文字符串+.。\n",
    "sml.feature.extract(new='Title', a='Name', regex=' ([A-Za-z]+)\\.')\n",
    "sml.plot.crosstab('Title', 'Sex')"
   ]
  },
  {
   "cell_type": "code",
   "execution_count": 39,
   "metadata": {
    "ExecuteTime": {
     "end_time": "2017-05-16T11:30:22.824341",
     "start_time": "2017-05-16T11:30:22.789753"
    }
   },
   "outputs": [
    {
     "data": {
      "text/plain": [
       "'Replaced matching list of strings across train and test datasets.'"
      ]
     },
     "execution_count": 39,
     "metadata": {},
     "output_type": "execute_result"
    },
    {
     "data": {
      "text/plain": [
       "'Replaced 2 matching values across train and test datasets.'"
      ]
     },
     "execution_count": 39,
     "metadata": {},
     "output_type": "execute_result"
    },
    {
     "data": {
      "text/plain": [
       "'Replaced 2 matching values across train and test datasets.'"
      ]
     },
     "execution_count": 39,
     "metadata": {},
     "output_type": "execute_result"
    },
    {
     "data": {
      "text/plain": [
       "'Replaced 1 matching values across train and test datasets.'"
      ]
     },
     "execution_count": 39,
     "metadata": {},
     "output_type": "execute_result"
    }
   ],
   "source": [
    "# 在'Title'特征里面的['Lady', 'Countess','Capt', 'Col',\\\n",
    "#'Don', 'Dr', 'Major', 'Rev', 'Sir', 'Jonkheer', 'Dona']替换为'Rare'\n",
    "sml.feature.replace(a='Title', match=['Lady', 'Countess','Capt', 'Col',\\\n",
    "'Don', 'Dr', 'Major', 'Rev', 'Sir', 'Jonkheer', 'Dona'], new='Rare')\n",
    "# 在'Title'特征里面的'MLLE'替换为Miss;\n",
    "sml.feature.replace('Title', 'Mlle', 'Miss')\n",
    "sml.feature.replace('Title', 'Ms', 'Miss')\n",
    "sml.feature.replace('Title', 'Mme', 'Mrs')"
   ]
  },
  {
   "cell_type": "code",
   "execution_count": 40,
   "metadata": {
    "ExecuteTime": {
     "end_time": "2017-05-16T11:30:22.839513",
     "start_time": "2017-05-16T11:30:22.827661"
    }
   },
   "outputs": [
    {
     "data": {
      "text/html": [
       "<div>\n",
       "<style scoped>\n",
       "    .dataframe tbody tr th:only-of-type {\n",
       "        vertical-align: middle;\n",
       "    }\n",
       "\n",
       "    .dataframe tbody tr th {\n",
       "        vertical-align: top;\n",
       "    }\n",
       "\n",
       "    .dataframe thead th {\n",
       "        text-align: right;\n",
       "    }\n",
       "</style>\n",
       "<table border=\"1\" class=\"dataframe\">\n",
       "  <thead>\n",
       "    <tr style=\"text-align: right;\">\n",
       "      <th></th>\n",
       "      <th>Name</th>\n",
       "      <th>Title</th>\n",
       "    </tr>\n",
       "  </thead>\n",
       "  <tbody>\n",
       "    <tr>\n",
       "      <th>0</th>\n",
       "      <td>Braund, Mr. Owen Harris</td>\n",
       "      <td>Mr</td>\n",
       "    </tr>\n",
       "    <tr>\n",
       "      <th>1</th>\n",
       "      <td>Cumings, Mrs. John Bradley (Florence Briggs Th...</td>\n",
       "      <td>Mrs</td>\n",
       "    </tr>\n",
       "    <tr>\n",
       "      <th>2</th>\n",
       "      <td>Heikkinen, Miss. Laina</td>\n",
       "      <td>Miss</td>\n",
       "    </tr>\n",
       "    <tr>\n",
       "      <th>3</th>\n",
       "      <td>Futrelle, Mrs. Jacques Heath (Lily May Peel)</td>\n",
       "      <td>Mrs</td>\n",
       "    </tr>\n",
       "    <tr>\n",
       "      <th>4</th>\n",
       "      <td>Allen, Mr. William Henry</td>\n",
       "      <td>Mr</td>\n",
       "    </tr>\n",
       "  </tbody>\n",
       "</table>\n",
       "</div>"
      ],
      "text/plain": [
       "                                                Name Title\n",
       "0                            Braund, Mr. Owen Harris    Mr\n",
       "1  Cumings, Mrs. John Bradley (Florence Briggs Th...   Mrs\n",
       "2                             Heikkinen, Miss. Laina  Miss\n",
       "3       Futrelle, Mrs. Jacques Heath (Lily May Peel)   Mrs\n",
       "4                           Allen, Mr. William Henry    Mr"
      ]
     },
     "execution_count": 40,
     "metadata": {},
     "output_type": "execute_result"
    }
   ],
   "source": [
    "sml.train[['Name', 'Title']].head()"
   ]
  },
  {
   "cell_type": "code",
   "execution_count": 41,
   "metadata": {
    "ExecuteTime": {
     "end_time": "2017-05-16T11:30:22.881495",
     "start_time": "2017-05-16T11:30:22.841764"
    }
   },
   "outputs": [
    {
     "data": {
      "text/plain": [
       "'Dropped 1 features with 11 features available.'"
      ]
     },
     "execution_count": 41,
     "metadata": {},
     "output_type": "execute_result"
    },
    {
     "data": {
      "text/html": [
       "<div>\n",
       "<style scoped>\n",
       "    .dataframe tbody tr th:only-of-type {\n",
       "        vertical-align: middle;\n",
       "    }\n",
       "\n",
       "    .dataframe tbody tr th {\n",
       "        vertical-align: top;\n",
       "    }\n",
       "\n",
       "    .dataframe thead th {\n",
       "        text-align: right;\n",
       "    }\n",
       "</style>\n",
       "<table border=\"1\" class=\"dataframe\">\n",
       "  <thead>\n",
       "    <tr style=\"text-align: right;\">\n",
       "      <th></th>\n",
       "      <th>Age</th>\n",
       "      <th>Age_density</th>\n",
       "      <th>Deck</th>\n",
       "      <th>Embarked</th>\n",
       "      <th>FamilySize</th>\n",
       "      <th>Fare</th>\n",
       "      <th>Pclass</th>\n",
       "      <th>Sex</th>\n",
       "      <th>Survived</th>\n",
       "      <th>Ticket_density</th>\n",
       "      <th>Title</th>\n",
       "    </tr>\n",
       "  </thead>\n",
       "  <tbody>\n",
       "    <tr>\n",
       "      <th>0</th>\n",
       "      <td>22.0</td>\n",
       "      <td>27</td>\n",
       "      <td>8</td>\n",
       "      <td>2</td>\n",
       "      <td>2.0</td>\n",
       "      <td>7.2500</td>\n",
       "      <td>3</td>\n",
       "      <td>0</td>\n",
       "      <td>0</td>\n",
       "      <td>1</td>\n",
       "      <td>2</td>\n",
       "    </tr>\n",
       "    <tr>\n",
       "      <th>1</th>\n",
       "      <td>38.0</td>\n",
       "      <td>11</td>\n",
       "      <td>2</td>\n",
       "      <td>0</td>\n",
       "      <td>2.0</td>\n",
       "      <td>71.2833</td>\n",
       "      <td>1</td>\n",
       "      <td>1</td>\n",
       "      <td>1</td>\n",
       "      <td>1</td>\n",
       "      <td>3</td>\n",
       "    </tr>\n",
       "    <tr>\n",
       "      <th>2</th>\n",
       "      <td>26.0</td>\n",
       "      <td>18</td>\n",
       "      <td>8</td>\n",
       "      <td>2</td>\n",
       "      <td>1.0</td>\n",
       "      <td>7.9250</td>\n",
       "      <td>3</td>\n",
       "      <td>1</td>\n",
       "      <td>1</td>\n",
       "      <td>1</td>\n",
       "      <td>1</td>\n",
       "    </tr>\n",
       "    <tr>\n",
       "      <th>3</th>\n",
       "      <td>35.0</td>\n",
       "      <td>18</td>\n",
       "      <td>2</td>\n",
       "      <td>2</td>\n",
       "      <td>2.0</td>\n",
       "      <td>53.1000</td>\n",
       "      <td>1</td>\n",
       "      <td>1</td>\n",
       "      <td>1</td>\n",
       "      <td>2</td>\n",
       "      <td>3</td>\n",
       "    </tr>\n",
       "    <tr>\n",
       "      <th>4</th>\n",
       "      <td>35.0</td>\n",
       "      <td>18</td>\n",
       "      <td>8</td>\n",
       "      <td>2</td>\n",
       "      <td>1.0</td>\n",
       "      <td>8.0500</td>\n",
       "      <td>3</td>\n",
       "      <td>0</td>\n",
       "      <td>0</td>\n",
       "      <td>1</td>\n",
       "      <td>2</td>\n",
       "    </tr>\n",
       "  </tbody>\n",
       "</table>\n",
       "</div>"
      ],
      "text/plain": [
       "    Age  Age_density  Deck  Embarked  FamilySize     Fare  Pclass  Sex  \\\n",
       "0  22.0           27     8         2         2.0   7.2500       3    0   \n",
       "1  38.0           11     2         0         2.0  71.2833       1    1   \n",
       "2  26.0           18     8         2         1.0   7.9250       3    1   \n",
       "3  35.0           18     2         2         2.0  53.1000       1    1   \n",
       "4  35.0           18     8         2         1.0   8.0500       3    0   \n",
       "\n",
       "   Survived  Ticket_density  Title  \n",
       "0         0               1      2  \n",
       "1         1               1      3  \n",
       "2         1               1      1  \n",
       "3         1               2      3  \n",
       "4         0               1      2  "
      ]
     },
     "execution_count": 41,
     "metadata": {},
     "output_type": "execute_result"
    }
   ],
   "source": [
    "# 删除特征'Name'\n",
    "sml.feature.drop(['Name'])\n",
    "# 把文本变成数字，A ：1，B：2，C：3...\n",
    "sml.feature.labels(['Title', 'Embarked', 'Deck'])\n",
    "sml.train.head()"
   ]
  },
  {
   "cell_type": "code",
   "execution_count": 42,
   "metadata": {
    "ExecuteTime": {
     "end_time": "2017-05-16T11:30:23.205251",
     "start_time": "2017-05-16T11:30:22.883315"
    }
   },
   "outputs": [
    {
     "data": {
      "image/png": "[encoded data removed]",
      "text/plain": [
       "<matplotlib.figure.Figure at 0xaebdba8>"
      ]
     },
     "metadata": {},
     "output_type": "display_data"
    }
   ],
   "source": [
    "# 查看特征重要性。\n",
    "sml.plot.importance()"
   ]
  },
  {
   "cell_type": "code",
   "execution_count": 44,
   "metadata": {
    "ExecuteTime": {
     "end_time": "2017-05-16T11:30:23.705079",
     "start_time": "2017-05-16T11:30:23.207097"
    }
   },
   "outputs": [
    {
     "data": {
      "image/png": "[encoded data removed]",
      "text/plain": [
       "<matplotlib.figure.Figure at 0xaeec3c8>"
      ]
     },
     "metadata": {},
     "output_type": "display_data"
    }
   ],
   "source": [
    "# 查看特征相关性\n",
    "sml.plot.correlate()"
   ]
  },
  {
   "cell_type": "code",
   "execution_count": 45,
   "metadata": {
    "ExecuteTime": {
     "end_time": "2017-05-16T11:30:26.187390",
     "start_time": "2017-05-16T11:30:23.707312"
    }
   },
   "outputs": [
    {
     "data": {
      "text/plain": [
       "<matplotlib.figure.Figure at 0xa9ab6a0>"
      ]
     },
     "metadata": {},
     "output_type": "display_data"
    },
    {
     "data": {
      "image/png": "[encoded data removed]",
      "text/plain": [
       "<matplotlib.figure.Figure at 0xa983c18>"
      ]
     },
     "metadata": {},
     "output_type": "display_data"
    }
   ],
   "source": [
    "sml.plot.distribute()"
   ]
  },
  {
   "cell_type": "code",
   "execution_count": 46,
   "metadata": {
    "ExecuteTime": {
     "end_time": "2017-05-16T11:30:26.228375",
     "start_time": "2017-05-16T11:30:26.189741"
    }
   },
   "outputs": [
    {
     "data": {
      "text/html": [
       "<div>\n",
       "<style scoped>\n",
       "    .dataframe tbody tr th:only-of-type {\n",
       "        vertical-align: middle;\n",
       "    }\n",
       "\n",
       "    .dataframe tbody tr th {\n",
       "        vertical-align: top;\n",
       "    }\n",
       "\n",
       "    .dataframe thead th {\n",
       "        text-align: right;\n",
       "    }\n",
       "</style>\n",
       "<table border=\"1\" class=\"dataframe\">\n",
       "  <thead>\n",
       "    <tr style=\"text-align: right;\">\n",
       "      <th></th>\n",
       "      <th>Results</th>\n",
       "      <th>Observations</th>\n",
       "    </tr>\n",
       "  </thead>\n",
       "  <tbody>\n",
       "    <tr>\n",
       "      <th>Speedml Release</th>\n",
       "      <td>v0.9.3</td>\n",
       "      <td>Visit https://speedml.com for release notes.</td>\n",
       "    </tr>\n",
       "    <tr>\n",
       "      <th>Shape</th>\n",
       "      <td>train (891, 11) | test (418, 10)</td>\n",
       "      <td></td>\n",
       "    </tr>\n",
       "    <tr>\n",
       "      <th>Numerical High-cardinality</th>\n",
       "      <td>[Age, Age_density, Fare]</td>\n",
       "      <td>(&gt;10) categories. Use feature.density</td>\n",
       "    </tr>\n",
       "    <tr>\n",
       "      <th>Numerical Categorical</th>\n",
       "      <td>[Deck, Embarked, FamilySize, Pclass, Sex, Surv...</td>\n",
       "      <td>Use plot.ordinal.</td>\n",
       "    </tr>\n",
       "    <tr>\n",
       "      <th>Target Analysis (Survived)</th>\n",
       "      <td>Model ready.</td>\n",
       "      <td>Use classification models.</td>\n",
       "    </tr>\n",
       "  </tbody>\n",
       "</table>\n",
       "</div>"
      ],
      "text/plain": [
       "                                                                      Results  \\\n",
       "Speedml Release                                                        v0.9.3   \n",
       "Shape                                        train (891, 11) | test (418, 10)   \n",
       "Numerical High-cardinality                           [Age, Age_density, Fare]   \n",
       "Numerical Categorical       [Deck, Embarked, FamilySize, Pclass, Sex, Surv...   \n",
       "Target Analysis (Survived)                                       Model ready.   \n",
       "\n",
       "                                                            Observations  \n",
       "Speedml Release             Visit https://speedml.com for release notes.  \n",
       "Shape                                                                     \n",
       "Numerical High-cardinality         (>10) categories. Use feature.density  \n",
       "Numerical Categorical                                  Use plot.ordinal.  \n",
       "Target Analysis (Survived)                    Use classification models.  "
      ]
     },
     "execution_count": 46,
     "metadata": {},
     "output_type": "execute_result"
    }
   ],
   "source": [
    "sml.eda()"
   ]
  },
  {
   "cell_type": "code",
   "execution_count": 47,
   "metadata": {
    "ExecuteTime": {
     "end_time": "2017-05-16T11:30:26.237202",
     "start_time": "2017-05-16T11:30:26.230764"
    }
   },
   "outputs": [
    {
     "data": {
      "text/plain": [
       "'train_X: (891, 10) train_y: (891,) test_X: (418, 10)'"
      ]
     },
     "execution_count": 47,
     "metadata": {},
     "output_type": "execute_result"
    }
   ],
   "source": [
    "sml.model.data()"
   ]
  },
  {
   "cell_type": "markdown",
   "metadata": {},
   "source": [
    "## Hyper-parameters Tuning 超参数调整\n",
    "\n",
    "This is an important step in the workflow. We optimize the hyper-parameters used for our XGBoost classifier to get the best results. We do this iteratively by setting certain hyper-parameters as fixed while checking permutations for two select parameters at a time.\n",
    "\n",
    "这是工作流程中的一个重要步骤。 我们优化用于XGBoost分类器的超参数，以获得最佳结果。\n",
    "\n",
    "我们通过将某些超参数设置为固定输入参数，同时检查其他两个选择参数来执行此操作，直到找到最优参数。\n",
    "\n",
    "The resulting table ranks the permutations based on accuracy, highest rank = 1.\n",
    "\n",
    "结果表格根据准确性排列，最高排名= 1。\n",
    "\n",
    "We now substitute the highest ranking parameters as fixed in the next round of optimization, selecting an alternate pair of parameters to optimize this time. Repeat this process for as many parameters as required. Normally two rounds of tuning is sufficient.\n",
    "\n",
    "我们现在用下一轮优化中固定的最高排名参数替代，选择一对可选参数来优化这个时间。 \n",
    "\n",
    "根据需要重复此过程中的参数。 通常两轮调整就足够了。"
   ]
  },
  {
   "cell_type": "code",
   "execution_count": 48,
   "metadata": {
    "ExecuteTime": {
     "end_time": "2017-05-16T11:30:28.017156",
     "start_time": "2017-05-16T11:30:26.239115"
    }
   },
   "outputs": [
    {
     "name": "stderr",
     "output_type": "stream",
     "text": [
      "D:\\Anaconda3\\envs\\tensorflow-gpu\\lib\\site-packages\\sklearn\\utils\\deprecation.py:122: FutureWarning: You are accessing a training score ('mean_train_score'), which will not be available by default any more in 0.21. If you need training scores, please set return_train_score=True\n",
      "  warnings.warn(*warn_args, **warn_kwargs)\n",
      "D:\\Anaconda3\\envs\\tensorflow-gpu\\lib\\site-packages\\sklearn\\utils\\deprecation.py:122: FutureWarning: You are accessing a training score ('split0_train_score'), which will not be available by default any more in 0.21. If you need training scores, please set return_train_score=True\n",
      "  warnings.warn(*warn_args, **warn_kwargs)\n",
      "D:\\Anaconda3\\envs\\tensorflow-gpu\\lib\\site-packages\\sklearn\\utils\\deprecation.py:122: FutureWarning: You are accessing a training score ('split1_train_score'), which will not be available by default any more in 0.21. If you need training scores, please set return_train_score=True\n",
      "  warnings.warn(*warn_args, **warn_kwargs)\n",
      "D:\\Anaconda3\\envs\\tensorflow-gpu\\lib\\site-packages\\sklearn\\utils\\deprecation.py:122: FutureWarning: You are accessing a training score ('split2_train_score'), which will not be available by default any more in 0.21. If you need training scores, please set return_train_score=True\n",
      "  warnings.warn(*warn_args, **warn_kwargs)\n",
      "D:\\Anaconda3\\envs\\tensorflow-gpu\\lib\\site-packages\\sklearn\\utils\\deprecation.py:122: FutureWarning: You are accessing a training score ('split3_train_score'), which will not be available by default any more in 0.21. If you need training scores, please set return_train_score=True\n",
      "  warnings.warn(*warn_args, **warn_kwargs)\n",
      "D:\\Anaconda3\\envs\\tensorflow-gpu\\lib\\site-packages\\sklearn\\utils\\deprecation.py:122: FutureWarning: You are accessing a training score ('split4_train_score'), which will not be available by default any more in 0.21. If you need training scores, please set return_train_score=True\n",
      "  warnings.warn(*warn_args, **warn_kwargs)\n",
      "D:\\Anaconda3\\envs\\tensorflow-gpu\\lib\\site-packages\\sklearn\\utils\\deprecation.py:122: FutureWarning: You are accessing a training score ('std_train_score'), which will not be available by default any more in 0.21. If you need training scores, please set return_train_score=True\n",
      "  warnings.warn(*warn_args, **warn_kwargs)\n"
     ]
    },
    {
     "data": {
      "text/html": [
       "<div>\n",
       "<style scoped>\n",
       "    .dataframe tbody tr th:only-of-type {\n",
       "        vertical-align: middle;\n",
       "    }\n",
       "\n",
       "    .dataframe tbody tr th {\n",
       "        vertical-align: top;\n",
       "    }\n",
       "\n",
       "    .dataframe thead th {\n",
       "        text-align: right;\n",
       "    }\n",
       "</style>\n",
       "<table border=\"1\" class=\"dataframe\">\n",
       "  <thead>\n",
       "    <tr style=\"text-align: right;\">\n",
       "      <th></th>\n",
       "      <th>rank</th>\n",
       "      <th>params</th>\n",
       "    </tr>\n",
       "  </thead>\n",
       "  <tbody>\n",
       "    <tr>\n",
       "      <th>0</th>\n",
       "      <td>1</td>\n",
       "      <td>{'max_depth': 3, 'min_child_weight': 1}</td>\n",
       "    </tr>\n",
       "    <tr>\n",
       "      <th>7</th>\n",
       "      <td>2</td>\n",
       "      <td>{'max_depth': 7, 'min_child_weight': 3}</td>\n",
       "    </tr>\n",
       "    <tr>\n",
       "      <th>3</th>\n",
       "      <td>3</td>\n",
       "      <td>{'max_depth': 5, 'min_child_weight': 1}</td>\n",
       "    </tr>\n",
       "    <tr>\n",
       "      <th>5</th>\n",
       "      <td>3</td>\n",
       "      <td>{'max_depth': 5, 'min_child_weight': 5}</td>\n",
       "    </tr>\n",
       "    <tr>\n",
       "      <th>8</th>\n",
       "      <td>3</td>\n",
       "      <td>{'max_depth': 7, 'min_child_weight': 5}</td>\n",
       "    </tr>\n",
       "    <tr>\n",
       "      <th>1</th>\n",
       "      <td>6</td>\n",
       "      <td>{'max_depth': 3, 'min_child_weight': 3}</td>\n",
       "    </tr>\n",
       "    <tr>\n",
       "      <th>4</th>\n",
       "      <td>6</td>\n",
       "      <td>{'max_depth': 5, 'min_child_weight': 3}</td>\n",
       "    </tr>\n",
       "    <tr>\n",
       "      <th>2</th>\n",
       "      <td>8</td>\n",
       "      <td>{'max_depth': 3, 'min_child_weight': 5}</td>\n",
       "    </tr>\n",
       "    <tr>\n",
       "      <th>6</th>\n",
       "      <td>9</td>\n",
       "      <td>{'max_depth': 7, 'min_child_weight': 1}</td>\n",
       "    </tr>\n",
       "  </tbody>\n",
       "</table>\n",
       "</div>"
      ],
      "text/plain": [
       "   rank                                   params\n",
       "0     1  {'max_depth': 3, 'min_child_weight': 1}\n",
       "7     2  {'max_depth': 7, 'min_child_weight': 3}\n",
       "3     3  {'max_depth': 5, 'min_child_weight': 1}\n",
       "5     3  {'max_depth': 5, 'min_child_weight': 5}\n",
       "8     3  {'max_depth': 7, 'min_child_weight': 5}\n",
       "1     6  {'max_depth': 3, 'min_child_weight': 3}\n",
       "4     6  {'max_depth': 5, 'min_child_weight': 3}\n",
       "2     8  {'max_depth': 3, 'min_child_weight': 5}\n",
       "6     9  {'max_depth': 7, 'min_child_weight': 1}"
      ]
     },
     "execution_count": 48,
     "metadata": {},
     "output_type": "execute_result"
    }
   ],
   "source": [
    "select_params = {'max_depth': [3,5,7], 'min_child_weight': [1,3,5]}\n",
    "fixed_params = {'learning_rate': 0.1, 'subsample': 0.8, \n",
    "                'colsample_bytree': 0.8, 'seed':0, \n",
    "                'objective': 'binary:logistic'}\n",
    "\n",
    "sml.xgb.hyper(select_params, fixed_params)"
   ]
  },
  {
   "cell_type": "code",
   "execution_count": 49,
   "metadata": {
    "ExecuteTime": {
     "end_time": "2017-05-16T11:30:29.318960",
     "start_time": "2017-05-16T11:30:28.020855"
    }
   },
   "outputs": [
    {
     "name": "stderr",
     "output_type": "stream",
     "text": [
      "D:\\Anaconda3\\envs\\tensorflow-gpu\\lib\\site-packages\\sklearn\\utils\\deprecation.py:122: FutureWarning: You are accessing a training score ('mean_train_score'), which will not be available by default any more in 0.21. If you need training scores, please set return_train_score=True\n",
      "  warnings.warn(*warn_args, **warn_kwargs)\n",
      "D:\\Anaconda3\\envs\\tensorflow-gpu\\lib\\site-packages\\sklearn\\utils\\deprecation.py:122: FutureWarning: You are accessing a training score ('split0_train_score'), which will not be available by default any more in 0.21. If you need training scores, please set return_train_score=True\n",
      "  warnings.warn(*warn_args, **warn_kwargs)\n",
      "D:\\Anaconda3\\envs\\tensorflow-gpu\\lib\\site-packages\\sklearn\\utils\\deprecation.py:122: FutureWarning: You are accessing a training score ('split1_train_score'), which will not be available by default any more in 0.21. If you need training scores, please set return_train_score=True\n",
      "  warnings.warn(*warn_args, **warn_kwargs)\n",
      "D:\\Anaconda3\\envs\\tensorflow-gpu\\lib\\site-packages\\sklearn\\utils\\deprecation.py:122: FutureWarning: You are accessing a training score ('split2_train_score'), which will not be available by default any more in 0.21. If you need training scores, please set return_train_score=True\n",
      "  warnings.warn(*warn_args, **warn_kwargs)\n",
      "D:\\Anaconda3\\envs\\tensorflow-gpu\\lib\\site-packages\\sklearn\\utils\\deprecation.py:122: FutureWarning: You are accessing a training score ('split3_train_score'), which will not be available by default any more in 0.21. If you need training scores, please set return_train_score=True\n",
      "  warnings.warn(*warn_args, **warn_kwargs)\n",
      "D:\\Anaconda3\\envs\\tensorflow-gpu\\lib\\site-packages\\sklearn\\utils\\deprecation.py:122: FutureWarning: You are accessing a training score ('split4_train_score'), which will not be available by default any more in 0.21. If you need training scores, please set return_train_score=True\n",
      "  warnings.warn(*warn_args, **warn_kwargs)\n",
      "D:\\Anaconda3\\envs\\tensorflow-gpu\\lib\\site-packages\\sklearn\\utils\\deprecation.py:122: FutureWarning: You are accessing a training score ('std_train_score'), which will not be available by default any more in 0.21. If you need training scores, please set return_train_score=True\n",
      "  warnings.warn(*warn_args, **warn_kwargs)\n"
     ]
    },
    {
     "data": {
      "text/html": [
       "<div>\n",
       "<style scoped>\n",
       "    .dataframe tbody tr th:only-of-type {\n",
       "        vertical-align: middle;\n",
       "    }\n",
       "\n",
       "    .dataframe tbody tr th {\n",
       "        vertical-align: top;\n",
       "    }\n",
       "\n",
       "    .dataframe thead th {\n",
       "        text-align: right;\n",
       "    }\n",
       "</style>\n",
       "<table border=\"1\" class=\"dataframe\">\n",
       "  <thead>\n",
       "    <tr style=\"text-align: right;\">\n",
       "      <th></th>\n",
       "      <th>rank</th>\n",
       "      <th>params</th>\n",
       "    </tr>\n",
       "  </thead>\n",
       "  <tbody>\n",
       "    <tr>\n",
       "      <th>3</th>\n",
       "      <td>1</td>\n",
       "      <td>{'learning_rate': 0.1, 'subsample': 0.7}</td>\n",
       "    </tr>\n",
       "    <tr>\n",
       "      <th>4</th>\n",
       "      <td>2</td>\n",
       "      <td>{'learning_rate': 0.1, 'subsample': 0.8}</td>\n",
       "    </tr>\n",
       "    <tr>\n",
       "      <th>5</th>\n",
       "      <td>3</td>\n",
       "      <td>{'learning_rate': 0.1, 'subsample': 0.9}</td>\n",
       "    </tr>\n",
       "    <tr>\n",
       "      <th>1</th>\n",
       "      <td>4</td>\n",
       "      <td>{'learning_rate': 0.3, 'subsample': 0.8}</td>\n",
       "    </tr>\n",
       "    <tr>\n",
       "      <th>0</th>\n",
       "      <td>5</td>\n",
       "      <td>{'learning_rate': 0.3, 'subsample': 0.7}</td>\n",
       "    </tr>\n",
       "    <tr>\n",
       "      <th>2</th>\n",
       "      <td>6</td>\n",
       "      <td>{'learning_rate': 0.3, 'subsample': 0.9}</td>\n",
       "    </tr>\n",
       "    <tr>\n",
       "      <th>6</th>\n",
       "      <td>7</td>\n",
       "      <td>{'learning_rate': 0.01, 'subsample': 0.7}</td>\n",
       "    </tr>\n",
       "    <tr>\n",
       "      <th>7</th>\n",
       "      <td>8</td>\n",
       "      <td>{'learning_rate': 0.01, 'subsample': 0.8}</td>\n",
       "    </tr>\n",
       "    <tr>\n",
       "      <th>8</th>\n",
       "      <td>9</td>\n",
       "      <td>{'learning_rate': 0.01, 'subsample': 0.9}</td>\n",
       "    </tr>\n",
       "  </tbody>\n",
       "</table>\n",
       "</div>"
      ],
      "text/plain": [
       "   rank                                     params\n",
       "3     1   {'learning_rate': 0.1, 'subsample': 0.7}\n",
       "4     2   {'learning_rate': 0.1, 'subsample': 0.8}\n",
       "5     3   {'learning_rate': 0.1, 'subsample': 0.9}\n",
       "1     4   {'learning_rate': 0.3, 'subsample': 0.8}\n",
       "0     5   {'learning_rate': 0.3, 'subsample': 0.7}\n",
       "2     6   {'learning_rate': 0.3, 'subsample': 0.9}\n",
       "6     7  {'learning_rate': 0.01, 'subsample': 0.7}\n",
       "7     8  {'learning_rate': 0.01, 'subsample': 0.8}\n",
       "8     9  {'learning_rate': 0.01, 'subsample': 0.9}"
      ]
     },
     "execution_count": 49,
     "metadata": {},
     "output_type": "execute_result"
    }
   ],
   "source": [
    "select_params = {'learning_rate': [0.3, 0.1, 0.01], 'subsample': [0.7,0.8,0.9]}\n",
    "fixed_params = {'max_depth': 3, 'min_child_weight': 1, \n",
    "                'colsample_bytree': 0.8, 'seed':0, \n",
    "                'objective': 'binary:logistic'}\n",
    "\n",
    "sml.xgb.hyper(select_params, fixed_params)"
   ]
  },
  {
   "cell_type": "code",
   "execution_count": 50,
   "metadata": {
    "ExecuteTime": {
     "end_time": "2017-05-16T11:30:29.510968",
     "start_time": "2017-05-16T11:30:29.322225"
    }
   },
   "outputs": [
    {
     "name": "stderr",
     "output_type": "stream",
     "text": [
      "D:\\Anaconda3\\envs\\tensorflow-gpu\\lib\\site-packages\\speedml\\xgb.py:54: FutureWarning: get_value is deprecated and will be removed in a future release. Please use .at[] or .iat[] accessors instead\n",
      "  self.error = self.cv_results.get_value(len(self.cv_results) - 1, 'test-error-mean')\n"
     ]
    }
   ],
   "source": [
    "tuned_params = {'learning_rate': 0.1, 'subsample': 0.8, \n",
    "                'max_depth': 3, 'min_child_weight': 1,\n",
    "                'seed':0, 'colsample_bytree': 0.8, \n",
    "                'objective': 'binary:logistic'}\n",
    "sml.xgb.cv(tuned_params)"
   ]
  },
  {
   "cell_type": "code",
   "execution_count": 62,
   "metadata": {
    "ExecuteTime": {
     "end_time": "2017-05-16T11:30:29.526590",
     "start_time": "2017-05-16T11:30:29.513254"
    }
   },
   "outputs": [
    {
     "data": {
      "text/html": [
       "<div>\n",
       "<style scoped>\n",
       "    .dataframe tbody tr th:only-of-type {\n",
       "        vertical-align: middle;\n",
       "    }\n",
       "\n",
       "    .dataframe tbody tr th {\n",
       "        vertical-align: top;\n",
       "    }\n",
       "\n",
       "    .dataframe thead th {\n",
       "        text-align: right;\n",
       "    }\n",
       "</style>\n",
       "<table border=\"1\" class=\"dataframe\">\n",
       "  <thead>\n",
       "    <tr style=\"text-align: right;\">\n",
       "      <th></th>\n",
       "      <th>test-error-mean</th>\n",
       "      <th>test-error-std</th>\n",
       "      <th>train-error-mean</th>\n",
       "      <th>train-error-std</th>\n",
       "    </tr>\n",
       "  </thead>\n",
       "  <tbody>\n",
       "    <tr>\n",
       "      <th>0</th>\n",
       "      <td>0.212165</td>\n",
       "      <td>0.027657</td>\n",
       "      <td>0.179009</td>\n",
       "      <td>0.009764</td>\n",
       "    </tr>\n",
       "    <tr>\n",
       "      <th>1</th>\n",
       "      <td>0.202052</td>\n",
       "      <td>0.038083</td>\n",
       "      <td>0.173119</td>\n",
       "      <td>0.002811</td>\n",
       "    </tr>\n",
       "    <tr>\n",
       "      <th>2</th>\n",
       "      <td>0.188569</td>\n",
       "      <td>0.018484</td>\n",
       "      <td>0.170875</td>\n",
       "      <td>0.001564</td>\n",
       "    </tr>\n",
       "    <tr>\n",
       "      <th>3</th>\n",
       "      <td>0.184075</td>\n",
       "      <td>0.013163</td>\n",
       "      <td>0.169191</td>\n",
       "      <td>0.001358</td>\n",
       "    </tr>\n",
       "    <tr>\n",
       "      <th>4</th>\n",
       "      <td>0.181828</td>\n",
       "      <td>0.015014</td>\n",
       "      <td>0.167227</td>\n",
       "      <td>0.002970</td>\n",
       "    </tr>\n",
       "    <tr>\n",
       "      <th>5</th>\n",
       "      <td>0.179580</td>\n",
       "      <td>0.014295</td>\n",
       "      <td>0.166105</td>\n",
       "      <td>0.003265</td>\n",
       "    </tr>\n",
       "    <tr>\n",
       "      <th>6</th>\n",
       "      <td>0.177340</td>\n",
       "      <td>0.013706</td>\n",
       "      <td>0.163580</td>\n",
       "      <td>0.004495</td>\n",
       "    </tr>\n",
       "    <tr>\n",
       "      <th>7</th>\n",
       "      <td>0.179587</td>\n",
       "      <td>0.015628</td>\n",
       "      <td>0.159373</td>\n",
       "      <td>0.004952</td>\n",
       "    </tr>\n",
       "    <tr>\n",
       "      <th>8</th>\n",
       "      <td>0.181834</td>\n",
       "      <td>0.016288</td>\n",
       "      <td>0.157690</td>\n",
       "      <td>0.004968</td>\n",
       "    </tr>\n",
       "    <tr>\n",
       "      <th>9</th>\n",
       "      <td>0.181834</td>\n",
       "      <td>0.016288</td>\n",
       "      <td>0.159373</td>\n",
       "      <td>0.002686</td>\n",
       "    </tr>\n",
       "    <tr>\n",
       "      <th>10</th>\n",
       "      <td>0.185205</td>\n",
       "      <td>0.014439</td>\n",
       "      <td>0.157689</td>\n",
       "      <td>0.003661</td>\n",
       "    </tr>\n",
       "    <tr>\n",
       "      <th>11</th>\n",
       "      <td>0.178463</td>\n",
       "      <td>0.017663</td>\n",
       "      <td>0.156568</td>\n",
       "      <td>0.005057</td>\n",
       "    </tr>\n",
       "    <tr>\n",
       "      <th>12</th>\n",
       "      <td>0.175092</td>\n",
       "      <td>0.012108</td>\n",
       "      <td>0.155725</td>\n",
       "      <td>0.005928</td>\n",
       "    </tr>\n",
       "    <tr>\n",
       "      <th>13</th>\n",
       "      <td>0.176210</td>\n",
       "      <td>0.011612</td>\n",
       "      <td>0.154603</td>\n",
       "      <td>0.005458</td>\n",
       "    </tr>\n",
       "    <tr>\n",
       "      <th>14</th>\n",
       "      <td>0.172845</td>\n",
       "      <td>0.013077</td>\n",
       "      <td>0.154323</td>\n",
       "      <td>0.006497</td>\n",
       "    </tr>\n",
       "    <tr>\n",
       "      <th>15</th>\n",
       "      <td>0.170592</td>\n",
       "      <td>0.013059</td>\n",
       "      <td>0.152920</td>\n",
       "      <td>0.006004</td>\n",
       "    </tr>\n",
       "  </tbody>\n",
       "</table>\n",
       "</div>"
      ],
      "text/plain": [
       "    test-error-mean  test-error-std  train-error-mean  train-error-std\n",
       "0          0.212165        0.027657          0.179009         0.009764\n",
       "1          0.202052        0.038083          0.173119         0.002811\n",
       "2          0.188569        0.018484          0.170875         0.001564\n",
       "3          0.184075        0.013163          0.169191         0.001358\n",
       "4          0.181828        0.015014          0.167227         0.002970\n",
       "5          0.179580        0.014295          0.166105         0.003265\n",
       "6          0.177340        0.013706          0.163580         0.004495\n",
       "7          0.179587        0.015628          0.159373         0.004952\n",
       "8          0.181834        0.016288          0.157690         0.004968\n",
       "9          0.181834        0.016288          0.159373         0.002686\n",
       "10         0.185205        0.014439          0.157689         0.003661\n",
       "11         0.178463        0.017663          0.156568         0.005057\n",
       "12         0.175092        0.012108          0.155725         0.005928\n",
       "13         0.176210        0.011612          0.154603         0.005458\n",
       "14         0.172845        0.013077          0.154323         0.006497\n",
       "15         0.170592        0.013059          0.152920         0.006004"
      ]
     },
     "execution_count": 62,
     "metadata": {},
     "output_type": "execute_result"
    }
   ],
   "source": [
    "sml.xgb.cv_results"
   ]
  },
  {
   "cell_type": "code",
   "execution_count": 61,
   "metadata": {},
   "outputs": [
    {
     "data": {
      "text/plain": [
       "16"
      ]
     },
     "execution_count": 61,
     "metadata": {},
     "output_type": "execute_result"
    }
   ],
   "source": [
    "sml.xgb.cv_results.shape[0]"
   ]
  },
  {
   "cell_type": "code",
   "execution_count": 52,
   "metadata": {
    "ExecuteTime": {
     "end_time": "2017-05-16T11:30:29.533516",
     "start_time": "2017-05-16T11:30:29.528628"
    }
   },
   "outputs": [],
   "source": [
    "tuned_params['n_estimators'] = sml.xgb.cv_results.shape[0] - 1\n",
    "sml.xgb.params(tuned_params)"
   ]
  },
  {
   "cell_type": "markdown",
   "metadata": {},
   "source": [
    "## Model Evaluation and Prediction 模型评价和预测\n",
    "\n",
    "We can now evaluate various models against our datasets to see which one is best suited.\n",
    "\n",
    "我们现在可以根据我们的数据集评估各种模型，以确定哪种模型最适合。"
   ]
  },
  {
   "cell_type": "code",
   "execution_count": 53,
   "metadata": {
    "ExecuteTime": {
     "end_time": "2017-05-16T11:30:29.540352",
     "start_time": "2017-05-16T11:30:29.536023"
    }
   },
   "outputs": [],
   "source": [
    "sml.xgb.classifier()"
   ]
  },
  {
   "cell_type": "code",
   "execution_count": 54,
   "metadata": {
    "ExecuteTime": {
     "end_time": "2017-05-16T11:30:33.369301",
     "start_time": "2017-05-16T11:30:29.543152"
    }
   },
   "outputs": [
    {
     "data": {
      "image/png": "[encoded data removed]",
      "text/plain": [
       "<matplotlib.figure.Figure at 0xb3a76d8>"
      ]
     },
     "metadata": {},
     "output_type": "display_data"
    }
   ],
   "source": [
    "sml.model.evaluate()\n",
    "sml.plot.model_ranks()"
   ]
  },
  {
   "cell_type": "code",
   "execution_count": 55,
   "metadata": {
    "ExecuteTime": {
     "end_time": "2017-05-16T11:30:33.384836",
     "start_time": "2017-05-16T11:30:33.371393"
    }
   },
   "outputs": [
    {
     "data": {
      "text/html": [
       "<div>\n",
       "<style scoped>\n",
       "    .dataframe tbody tr th:only-of-type {\n",
       "        vertical-align: middle;\n",
       "    }\n",
       "\n",
       "    .dataframe tbody tr th {\n",
       "        vertical-align: top;\n",
       "    }\n",
       "\n",
       "    .dataframe thead th {\n",
       "        text-align: right;\n",
       "    }\n",
       "</style>\n",
       "<table border=\"1\" class=\"dataframe\">\n",
       "  <thead>\n",
       "    <tr style=\"text-align: right;\">\n",
       "      <th></th>\n",
       "      <th>Classifier</th>\n",
       "      <th>Accuracy</th>\n",
       "    </tr>\n",
       "  </thead>\n",
       "  <tbody>\n",
       "    <tr>\n",
       "      <th>0</th>\n",
       "      <td>GradientBoostingClassifier</td>\n",
       "      <td>0.832222</td>\n",
       "    </tr>\n",
       "    <tr>\n",
       "      <th>0</th>\n",
       "      <td>XGBClassifier</td>\n",
       "      <td>0.824444</td>\n",
       "    </tr>\n",
       "    <tr>\n",
       "      <th>0</th>\n",
       "      <td>AdaBoostClassifier</td>\n",
       "      <td>0.821111</td>\n",
       "    </tr>\n",
       "    <tr>\n",
       "      <th>0</th>\n",
       "      <td>RandomForestClassifier</td>\n",
       "      <td>0.814444</td>\n",
       "    </tr>\n",
       "    <tr>\n",
       "      <th>0</th>\n",
       "      <td>DecisionTreeClassifier</td>\n",
       "      <td>0.796667</td>\n",
       "    </tr>\n",
       "    <tr>\n",
       "      <th>0</th>\n",
       "      <td>LogisticRegression</td>\n",
       "      <td>0.786667</td>\n",
       "    </tr>\n",
       "    <tr>\n",
       "      <th>0</th>\n",
       "      <td>GaussianNB</td>\n",
       "      <td>0.777778</td>\n",
       "    </tr>\n",
       "    <tr>\n",
       "      <th>0</th>\n",
       "      <td>SVC</td>\n",
       "      <td>0.714444</td>\n",
       "    </tr>\n",
       "    <tr>\n",
       "      <th>0</th>\n",
       "      <td>KNeighborsClassifier</td>\n",
       "      <td>0.703333</td>\n",
       "    </tr>\n",
       "  </tbody>\n",
       "</table>\n",
       "</div>"
      ],
      "text/plain": [
       "                   Classifier  Accuracy\n",
       "0  GradientBoostingClassifier  0.832222\n",
       "0               XGBClassifier  0.824444\n",
       "0          AdaBoostClassifier  0.821111\n",
       "0      RandomForestClassifier  0.814444\n",
       "0      DecisionTreeClassifier  0.796667\n",
       "0          LogisticRegression  0.786667\n",
       "0                  GaussianNB  0.777778\n",
       "0                         SVC  0.714444\n",
       "0        KNeighborsClassifier  0.703333"
      ]
     },
     "execution_count": 55,
     "metadata": {},
     "output_type": "execute_result"
    }
   ],
   "source": [
    "sml.model.ranks()"
   ]
  },
  {
   "cell_type": "markdown",
   "metadata": {},
   "source": [
    "## Model Prediction and Feature Selection 模型预测和特征选择。\n",
    "\n",
    "This part of our notebook trains the XGBoost model, generates the model predictions and plots features based on model assigned importance (weights).\n",
    "\n",
    "我们笔记本的这一部分训练XGBoost模型，根据模型分配的重要性（权重）生成模型预测并绘制特征。"
   ]
  },
  {
   "cell_type": "code",
   "execution_count": 64,
   "metadata": {
    "ExecuteTime": {
     "end_time": "2017-05-16T11:30:33.661203",
     "start_time": "2017-05-16T11:30:33.386494"
    }
   },
   "outputs": [],
   "source": [
    "sml.xgb.fit()\n",
    "sml.xgb.predict()\n",
    "\n",
    "# sml.plot.xgb_importance()"
   ]
  },
  {
   "cell_type": "code",
   "execution_count": 65,
   "metadata": {
    "ExecuteTime": {
     "end_time": "2017-05-16T11:30:34.033419",
     "start_time": "2017-05-16T11:30:33.663479"
    }
   },
   "outputs": [
    {
     "name": "stdout",
     "output_type": "stream",
     "text": [
      "Accuracy: 79.480000%\n",
      "Thresh=0.032, n=10, Accuracy: 79.48%\n",
      "Thresh=0.044, n=9, Accuracy: 79.10%\n",
      "Thresh=0.066, n=8, Accuracy: 77.61%\n",
      "Thresh=0.069, n=7, Accuracy: 79.10%\n",
      "Thresh=0.071, n=6, Accuracy: 76.49%\n",
      "Thresh=0.076, n=5, Accuracy: 76.49%\n",
      "Thresh=0.083, n=4, Accuracy: 69.78%\n",
      "Thresh=0.099, n=3, Accuracy: 68.66%\n",
      "Thresh=0.169, n=2, Accuracy: 68.66%\n",
      "Thresh=0.290, n=1, Accuracy: 71.64%\n"
     ]
    }
   ],
   "source": [
    "# 逐渐较少特征来训练模型，看准率如何。\n",
    "sml.xgb.feature_selection()"
   ]
  },
  {
   "cell_type": "code",
   "execution_count": 66,
   "metadata": {
    "ExecuteTime": {
     "end_time": "2017-05-16T11:30:34.044125",
     "start_time": "2017-05-16T11:30:34.035379"
    }
   },
   "outputs": [
    {
     "data": {
      "text/plain": [
       "'Accuracy = 84.51%. Found 753 correct of 891 total labels'"
      ]
     },
     "execution_count": 66,
     "metadata": {},
     "output_type": "execute_result"
    }
   ],
   "source": [
    "# 预测训练集并打印准确率，也包含预测了测试集\n",
    "sml.xgb.sample_accuracy()"
   ]
  },
  {
   "cell_type": "code",
   "execution_count": 67,
   "metadata": {
    "ExecuteTime": {
     "end_time": "2017-05-16T11:30:34.062541",
     "start_time": "2017-05-16T11:30:34.047236"
    }
   },
   "outputs": [
    {
     "data": {
      "text/plain": [
       "'Results saved.'"
      ]
     },
     "execution_count": 67,
     "metadata": {},
     "output_type": "execute_result"
    },
    {
     "data": {
      "text/plain": [
       "'e17.06-m82.44-s84.51-f79.48'"
      ]
     },
     "execution_count": 67,
     "metadata": {},
     "output_type": "execute_result"
    }
   ],
   "source": [
    "sml.save_results(\n",
    "    columns={ 'PassengerId': sml.uid,\n",
    "             'Survived': sml.xgb.predictions }, \n",
    "    file_path='titanic-speedml-{}.csv'.format(sml.slug()))\n",
    "sml.slug()"
   ]
  },
  {
   "cell_type": "code",
   "execution_count": null,
   "metadata": {},
   "outputs": [],
   "source": []
  }
 ],
 "metadata": {
  "hide_input": false,
  "kernelspec": {
   "display_name": "Python 3",
   "language": "python",
   "name": "python3"
  },
  "language_info": {
   "codemirror_mode": {
    "name": "ipython",
    "version": 3
   },
   "file_extension": ".py",
   "mimetype": "text/x-python",
   "name": "python",
   "nbconvert_exporter": "python",
   "pygments_lexer": "ipython3",
   "version": "3.6.3"
  }
 },
 "nbformat": 4,
 "nbformat_minor": 2
}
